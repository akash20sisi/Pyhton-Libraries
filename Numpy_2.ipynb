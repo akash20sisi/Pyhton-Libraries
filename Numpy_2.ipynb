{
  "nbformat": 4,
  "nbformat_minor": 0,
  "metadata": {
    "colab": {
      "provenance": []
    },
    "kernelspec": {
      "name": "python3",
      "display_name": "Python 3"
    },
    "language_info": {
      "name": "python"
    }
  },
  "cells": [
    {
      "cell_type": "markdown",
      "source": [
        "**4.2 Pseudorandom Number Generation**\n",
        "\n",
        "* The numpy.random module supplements the built-in Python random module with\n",
        "functions for efficiently generating whole arrays of sample values from many kinds of\n",
        "probability distributions."
      ],
      "metadata": {
        "id": "voOGf-eZZVMs"
      }
    },
    {
      "cell_type": "code",
      "execution_count": 1,
      "metadata": {
        "id": "UAata00YZQiY"
      },
      "outputs": [],
      "source": [
        "import numpy as np"
      ]
    },
    {
      "cell_type": "code",
      "source": [
        "samples = np.random.normal(size=(3,2))"
      ],
      "metadata": {
        "id": "5BmUl2hEZX8B"
      },
      "execution_count": 4,
      "outputs": []
    },
    {
      "cell_type": "code",
      "source": [
        "samples"
      ],
      "metadata": {
        "colab": {
          "base_uri": "https://localhost:8080/"
        },
        "id": "T5G4YNnoZzDY",
        "outputId": "ff693d2e-a9f9-4999-8fdf-8e62a2c1d244"
      },
      "execution_count": 5,
      "outputs": [
        {
          "output_type": "execute_result",
          "data": {
            "text/plain": [
              "array([[-0.70297434, -0.22796914],\n",
              "       [-0.15623975,  0.52889472],\n",
              "       [-0.26516405,  0.2119445 ]])"
            ]
          },
          "metadata": {},
          "execution_count": 5
        }
      ]
    },
    {
      "cell_type": "markdown",
      "source": [
        "**Python’s built-in random module, by contrast, samples only one value at a time. As\n",
        "you can see from this benchmark, numpy.random is well over an order of magnitude\n",
        "faster for generating very large samples:**"
      ],
      "metadata": {
        "id": "U2KjddmmZ7Ra"
      }
    },
    {
      "cell_type": "code",
      "source": [
        "from random import normalvariate"
      ],
      "metadata": {
        "id": "n_zmkC-nZz-g"
      },
      "execution_count": 6,
      "outputs": []
    },
    {
      "cell_type": "code",
      "source": [
        "N = 1_000_000"
      ],
      "metadata": {
        "id": "KA-zV9o5aNiO"
      },
      "execution_count": 7,
      "outputs": []
    },
    {
      "cell_type": "code",
      "source": [
        "%timeit samples  = [normalvariate(0,1) for i in range(N)]"
      ],
      "metadata": {
        "colab": {
          "base_uri": "https://localhost:8080/"
        },
        "id": "ATnSUW6gaSsh",
        "outputId": "f61524bc-ff62-4385-ff63-b0c196d87fab"
      },
      "execution_count": 13,
      "outputs": [
        {
          "output_type": "stream",
          "name": "stdout",
          "text": [
            "661 ms ± 9.94 ms per loop (mean ± std. dev. of 7 runs, 1 loop each)\n"
          ]
        }
      ]
    },
    {
      "cell_type": "code",
      "source": [
        "%timeit np.random.standard_normal(size = N)"
      ],
      "metadata": {
        "colab": {
          "base_uri": "https://localhost:8080/"
        },
        "id": "MuEhkOIhalMe",
        "outputId": "36f11d31-17e0-4f71-eda8-277434b0a4cc"
      },
      "execution_count": 15,
      "outputs": [
        {
          "output_type": "stream",
          "name": "stdout",
          "text": [
            "29.6 ms ± 729 µs per loop (mean ± std. dev. of 7 runs, 10 loops each)\n"
          ]
        }
      ]
    },
    {
      "cell_type": "markdown",
      "source": [
        "**4.3 Universal Functions: Fast Element-Wise Array\n",
        "Functions**\n",
        "\n",
        "* A universal function, or ufunc, is a function that performs element-wise operations\n",
        "on data in ndarrays. You can think of them as fast vectorized wrappers for simple\n",
        "functions that take one or more scalar values and produce one or more scalar results."
      ],
      "metadata": {
        "id": "puDvAAaqdQTS"
      }
    },
    {
      "cell_type": "code",
      "source": [
        "arr = np.arange(10)"
      ],
      "metadata": {
        "id": "sLzZy_QXa71u"
      },
      "execution_count": 16,
      "outputs": []
    },
    {
      "cell_type": "code",
      "source": [
        "arr"
      ],
      "metadata": {
        "colab": {
          "base_uri": "https://localhost:8080/"
        },
        "id": "ZmDKc3FTffHK",
        "outputId": "c205da6d-6493-4247-87f0-0c24fe7ee062"
      },
      "execution_count": 18,
      "outputs": [
        {
          "output_type": "execute_result",
          "data": {
            "text/plain": [
              "array([0, 1, 2, 3, 4, 5, 6, 7, 8, 9])"
            ]
          },
          "metadata": {},
          "execution_count": 18
        }
      ]
    },
    {
      "cell_type": "code",
      "source": [
        "np.sqrt(arr)"
      ],
      "metadata": {
        "colab": {
          "base_uri": "https://localhost:8080/"
        },
        "id": "_-bNkUDYflCg",
        "outputId": "8f38cc40-a6a8-4281-8e12-190fa49bc47e"
      },
      "execution_count": 19,
      "outputs": [
        {
          "output_type": "execute_result",
          "data": {
            "text/plain": [
              "array([0.        , 1.        , 1.41421356, 1.73205081, 2.        ,\n",
              "       2.23606798, 2.44948974, 2.64575131, 2.82842712, 3.        ])"
            ]
          },
          "metadata": {},
          "execution_count": 19
        }
      ]
    },
    {
      "cell_type": "code",
      "source": [
        "np.exp(arr)"
      ],
      "metadata": {
        "colab": {
          "base_uri": "https://localhost:8080/"
        },
        "id": "nR8bUQinfprj",
        "outputId": "cb7db6ef-97bb-450f-a161-30ca5a6b4276"
      },
      "execution_count": 20,
      "outputs": [
        {
          "output_type": "execute_result",
          "data": {
            "text/plain": [
              "array([1.00000000e+00, 2.71828183e+00, 7.38905610e+00, 2.00855369e+01,\n",
              "       5.45981500e+01, 1.48413159e+02, 4.03428793e+02, 1.09663316e+03,\n",
              "       2.98095799e+03, 8.10308393e+03])"
            ]
          },
          "metadata": {},
          "execution_count": 20
        }
      ]
    },
    {
      "cell_type": "code",
      "source": [
        "x = np.random.standard_normal(8)\n",
        "y = np.random.standard_normal(8)"
      ],
      "metadata": {
        "id": "D08HM8xAftq6"
      },
      "execution_count": 22,
      "outputs": []
    },
    {
      "cell_type": "code",
      "source": [
        "x == y"
      ],
      "metadata": {
        "colab": {
          "base_uri": "https://localhost:8080/"
        },
        "id": "x9d0Dv20f9Kb",
        "outputId": "dfb209cb-ce06-48ca-ef03-3166fab6da12"
      },
      "execution_count": 23,
      "outputs": [
        {
          "output_type": "execute_result",
          "data": {
            "text/plain": [
              "array([False, False, False, False, False, False, False, False])"
            ]
          },
          "metadata": {},
          "execution_count": 23
        }
      ]
    },
    {
      "cell_type": "code",
      "source": [
        "x + y"
      ],
      "metadata": {
        "colab": {
          "base_uri": "https://localhost:8080/"
        },
        "id": "AXiMYw6pgH5X",
        "outputId": "607c327b-182b-424b-e879-35df991b608a"
      },
      "execution_count": 24,
      "outputs": [
        {
          "output_type": "execute_result",
          "data": {
            "text/plain": [
              "array([ 0.01234856, -0.33846905, -0.73024765,  1.85507171, -2.50450957,\n",
              "       -1.08255183,  0.15448908,  0.2347283 ])"
            ]
          },
          "metadata": {},
          "execution_count": 24
        }
      ]
    },
    {
      "cell_type": "code",
      "source": [
        "np.maximum(x,y)"
      ],
      "metadata": {
        "colab": {
          "base_uri": "https://localhost:8080/"
        },
        "id": "_NDkN7tEgJcp",
        "outputId": "7657efbe-3396-4667-c80e-1aa96a30d30f"
      },
      "execution_count": 25,
      "outputs": [
        {
          "output_type": "execute_result",
          "data": {
            "text/plain": [
              "array([ 0.68800635,  0.79056913, -0.14598894,  1.20812886, -0.87319566,\n",
              "       -0.53661811,  0.3870711 ,  1.26887919])"
            ]
          },
          "metadata": {},
          "execution_count": 25
        }
      ]
    },
    {
      "cell_type": "code",
      "source": [
        "arr = np.random.standard_normal(10) * 3"
      ],
      "metadata": {
        "id": "X2pzSX1cgMiy"
      },
      "execution_count": 26,
      "outputs": []
    },
    {
      "cell_type": "code",
      "source": [
        "arr"
      ],
      "metadata": {
        "colab": {
          "base_uri": "https://localhost:8080/"
        },
        "id": "nfs3pH-kgtn6",
        "outputId": "b65852cd-22a6-4468-fa56-2cfa545d10c0"
      },
      "execution_count": 27,
      "outputs": [
        {
          "output_type": "execute_result",
          "data": {
            "text/plain": [
              "array([ 4.93934268, -4.37073744, -1.0981039 ,  0.04147544, -0.55803841,\n",
              "        2.3311176 , -1.90463692, -2.18223557, -4.76971052,  6.21977587])"
            ]
          },
          "metadata": {},
          "execution_count": 27
        }
      ]
    },
    {
      "cell_type": "code",
      "source": [
        "remainder, whole_part = np.modf(arr)"
      ],
      "metadata": {
        "id": "B_FuMMRVgulp"
      },
      "execution_count": 28,
      "outputs": []
    },
    {
      "cell_type": "code",
      "source": [
        "remainder"
      ],
      "metadata": {
        "colab": {
          "base_uri": "https://localhost:8080/"
        },
        "id": "wi39Nadjg2nD",
        "outputId": "004c9539-d53f-4958-d28e-ecaa27feb4f0"
      },
      "execution_count": 29,
      "outputs": [
        {
          "output_type": "execute_result",
          "data": {
            "text/plain": [
              "array([ 0.93934268, -0.37073744, -0.0981039 ,  0.04147544, -0.55803841,\n",
              "        0.3311176 , -0.90463692, -0.18223557, -0.76971052,  0.21977587])"
            ]
          },
          "metadata": {},
          "execution_count": 29
        }
      ]
    },
    {
      "cell_type": "code",
      "source": [
        "whole_part"
      ],
      "metadata": {
        "colab": {
          "base_uri": "https://localhost:8080/"
        },
        "id": "uATyv-Xcg3lS",
        "outputId": "cb865f53-6ea8-46d2-bfba-40f0b59ac0d9"
      },
      "execution_count": 30,
      "outputs": [
        {
          "output_type": "execute_result",
          "data": {
            "text/plain": [
              "array([ 4., -4., -1.,  0., -0.,  2., -1., -2., -4.,  6.])"
            ]
          },
          "metadata": {},
          "execution_count": 30
        }
      ]
    },
    {
      "cell_type": "markdown",
      "source": [
        "**4.4 Array-Oriented Programming with Arrays**\n",
        "\n",
        "* As a simple example, suppose we wished to evaluate the function sqrt(x^2 +\n",
        "y^2) across a regular grid of values. The numpy.meshgrid function takes two onedimensional arrays and produces two two-dimensional matrices corresponding to all\n",
        "pairs of (x, y) in the two arrays:"
      ],
      "metadata": {
        "id": "_XkJGazChnBl"
      }
    },
    {
      "cell_type": "code",
      "source": [
        "points =  np.arange(-5,5,0.01)"
      ],
      "metadata": {
        "id": "pMbUbgpig5Ew"
      },
      "execution_count": 35,
      "outputs": []
    },
    {
      "cell_type": "code",
      "source": [
        "x, y = np.meshgrid(points, points)"
      ],
      "metadata": {
        "id": "2VQ91LVaiUYM"
      },
      "execution_count": 38,
      "outputs": []
    },
    {
      "cell_type": "code",
      "source": [
        "z = np.sqrt(x**2 + y**2)"
      ],
      "metadata": {
        "id": "csN2tQlliVDW"
      },
      "execution_count": 39,
      "outputs": []
    },
    {
      "cell_type": "code",
      "source": [
        "z"
      ],
      "metadata": {
        "colab": {
          "base_uri": "https://localhost:8080/"
        },
        "id": "2Rx6oxdki06U",
        "outputId": "ed078552-beef-4617-ea45-976a7f10fd57"
      },
      "execution_count": 40,
      "outputs": [
        {
          "output_type": "execute_result",
          "data": {
            "text/plain": [
              "array([[7.07106781, 7.06400028, 7.05693985, ..., 7.04988652, 7.05693985,\n",
              "        7.06400028],\n",
              "       [7.06400028, 7.05692568, 7.04985815, ..., 7.04279774, 7.04985815,\n",
              "        7.05692568],\n",
              "       [7.05693985, 7.04985815, 7.04278354, ..., 7.03571603, 7.04278354,\n",
              "        7.04985815],\n",
              "       ...,\n",
              "       [7.04988652, 7.04279774, 7.03571603, ..., 7.0286414 , 7.03571603,\n",
              "        7.04279774],\n",
              "       [7.05693985, 7.04985815, 7.04278354, ..., 7.03571603, 7.04278354,\n",
              "        7.04985815],\n",
              "       [7.06400028, 7.05692568, 7.04985815, ..., 7.04279774, 7.04985815,\n",
              "        7.05692568]])"
            ]
          },
          "metadata": {},
          "execution_count": 40
        }
      ]
    },
    {
      "cell_type": "markdown",
      "source": [
        "**Expressing Conditional Logic as Array Operations**"
      ],
      "metadata": {
        "id": "Mgk_3er3jBs0"
      }
    },
    {
      "cell_type": "code",
      "source": [
        "xarr = np.array([1.1, 1.2, 1.3, 1.4, 1.5])"
      ],
      "metadata": {
        "id": "EPerMFBtkQGf"
      },
      "execution_count": 44,
      "outputs": []
    },
    {
      "cell_type": "code",
      "source": [
        "yarr = np.array([2.1, 2.2, 2.3, 2.4, 2.5])"
      ],
      "metadata": {
        "id": "tV7bon4qi1vh"
      },
      "execution_count": 45,
      "outputs": []
    },
    {
      "cell_type": "code",
      "source": [
        "cond = np.array([True, False, True, True, False])\n"
      ],
      "metadata": {
        "id": "AX_4CQuPjC_S"
      },
      "execution_count": 46,
      "outputs": []
    },
    {
      "cell_type": "markdown",
      "source": [
        "**Suppose we wanted to take a value from xarr whenever the corresponding value in\n",
        "cond is True, and otherwise take the value from yarr. A list comprehension doing\n",
        "this might look like.**"
      ],
      "metadata": {
        "id": "ZmXk63r1k38A"
      }
    },
    {
      "cell_type": "code",
      "source": [
        "result = [(x if c else y) for x, y, c in zip(xarr,yarr,cond)]"
      ],
      "metadata": {
        "id": "IKEpDVnak56m"
      },
      "execution_count": 47,
      "outputs": []
    },
    {
      "cell_type": "code",
      "source": [
        "result"
      ],
      "metadata": {
        "colab": {
          "base_uri": "https://localhost:8080/"
        },
        "id": "xemYKucGlFnA",
        "outputId": "3f0ff70f-bcc7-4c90-8983-d0a030242d77"
      },
      "execution_count": 48,
      "outputs": [
        {
          "output_type": "execute_result",
          "data": {
            "text/plain": [
              "[np.float64(1.1),\n",
              " np.float64(2.2),\n",
              " np.float64(1.3),\n",
              " np.float64(1.4),\n",
              " np.float64(2.5)]"
            ]
          },
          "metadata": {},
          "execution_count": 48
        }
      ]
    },
    {
      "cell_type": "markdown",
      "source": [
        "**Suppose we wanted to take a value from xarr whenever the corresponding value in\n",
        "cond is True, and otherwise take the value from yarr. A list comprehension doing\n",
        "this might look like.**"
      ],
      "metadata": {
        "id": "8gKgiSWFlVWH"
      }
    },
    {
      "cell_type": "code",
      "source": [
        "result = np.where(xarr, yarr, cond)"
      ],
      "metadata": {
        "id": "a-wa9yaylZXi"
      },
      "execution_count": 49,
      "outputs": []
    },
    {
      "cell_type": "code",
      "source": [
        "result"
      ],
      "metadata": {
        "colab": {
          "base_uri": "https://localhost:8080/"
        },
        "id": "OJQM9ewclfKh",
        "outputId": "856b3fc7-bf27-4304-e329-1eeee8dd1e07"
      },
      "execution_count": 50,
      "outputs": [
        {
          "output_type": "execute_result",
          "data": {
            "text/plain": [
              "array([2.1, 2.2, 2.3, 2.4, 2.5])"
            ]
          },
          "metadata": {},
          "execution_count": 50
        }
      ]
    },
    {
      "cell_type": "markdown",
      "source": [
        "**The second and third arguments to numpy.where don’t need to be arrays; one or\n",
        "both of them can be scalars. A typical use of where in data analysis is to produce a\n",
        "new array of values based on another array. Suppose you had a matrix of randomly\n",
        "generated data and you wanted to replace all positive values with 2 and all negative\n",
        "values with –2. This is possible to do with numpy.where:**"
      ],
      "metadata": {
        "id": "eqpmNehfloOg"
      }
    },
    {
      "cell_type": "code",
      "source": [
        "arr = np.random.normal(size = (3,3))"
      ],
      "metadata": {
        "id": "OLObuUFTlgmU"
      },
      "execution_count": 51,
      "outputs": []
    },
    {
      "cell_type": "code",
      "source": [
        "arr"
      ],
      "metadata": {
        "colab": {
          "base_uri": "https://localhost:8080/"
        },
        "id": "TbjOTEmyl2wt",
        "outputId": "360bc498-d0e2-4933-e4a4-6867581066f8"
      },
      "execution_count": 52,
      "outputs": [
        {
          "output_type": "execute_result",
          "data": {
            "text/plain": [
              "array([[ 0.72981891,  0.21705042, -0.88657845],\n",
              "       [-0.945503  ,  1.85815946,  0.38385092],\n",
              "       [ 1.0632158 , -1.2735968 ,  0.24596612]])"
            ]
          },
          "metadata": {},
          "execution_count": 52
        }
      ]
    },
    {
      "cell_type": "code",
      "source": [
        "arr > 0"
      ],
      "metadata": {
        "colab": {
          "base_uri": "https://localhost:8080/"
        },
        "id": "xGMJ3A8al34w",
        "outputId": "2882edab-2643-434f-d1cd-6a90188b97b5"
      },
      "execution_count": 53,
      "outputs": [
        {
          "output_type": "execute_result",
          "data": {
            "text/plain": [
              "array([[ True,  True, False],\n",
              "       [False,  True,  True],\n",
              "       [ True, False,  True]])"
            ]
          },
          "metadata": {},
          "execution_count": 53
        }
      ]
    },
    {
      "cell_type": "code",
      "source": [
        "result = np.where(arr>0 , 2, -2)"
      ],
      "metadata": {
        "id": "FDzAzKQhl5Mm"
      },
      "execution_count": 54,
      "outputs": []
    },
    {
      "cell_type": "code",
      "source": [
        "result"
      ],
      "metadata": {
        "colab": {
          "base_uri": "https://localhost:8080/"
        },
        "id": "vcGz9rvkl94b",
        "outputId": "53c47081-578a-4f9a-d658-f4a847bd63ca"
      },
      "execution_count": 55,
      "outputs": [
        {
          "output_type": "execute_result",
          "data": {
            "text/plain": [
              "array([[ 2,  2, -2],\n",
              "       [-2,  2,  2],\n",
              "       [ 2, -2,  2]])"
            ]
          },
          "metadata": {},
          "execution_count": 55
        }
      ]
    },
    {
      "cell_type": "code",
      "source": [
        "result = np.where(arr > 0, 2, arr)"
      ],
      "metadata": {
        "id": "zC78Vy17l-uT"
      },
      "execution_count": 56,
      "outputs": []
    },
    {
      "cell_type": "code",
      "source": [
        "result"
      ],
      "metadata": {
        "colab": {
          "base_uri": "https://localhost:8080/"
        },
        "id": "XRs_fPHRmJJN",
        "outputId": "153b90d7-d098-4ef9-b3cf-ad92f8a84ee9"
      },
      "execution_count": 57,
      "outputs": [
        {
          "output_type": "execute_result",
          "data": {
            "text/plain": [
              "array([[ 2.        ,  2.        , -0.88657845],\n",
              "       [-0.945503  ,  2.        ,  2.        ],\n",
              "       [ 2.        , -1.2735968 ,  2.        ]])"
            ]
          },
          "metadata": {},
          "execution_count": 57
        }
      ]
    },
    {
      "cell_type": "markdown",
      "source": [
        "**Mathematical and Statistical Methods**"
      ],
      "metadata": {
        "id": "aYtyduBfrt2u"
      }
    },
    {
      "cell_type": "code",
      "source": [
        "arr = np.random.normal(size = (3,3))"
      ],
      "metadata": {
        "id": "jGpX6gB5mKCH"
      },
      "execution_count": 60,
      "outputs": []
    },
    {
      "cell_type": "code",
      "source": [
        "arr"
      ],
      "metadata": {
        "colab": {
          "base_uri": "https://localhost:8080/"
        },
        "id": "rp7qTw-8r46V",
        "outputId": "eb8e3a0d-acfd-4842-8fef-d805c5372c3e"
      },
      "execution_count": 61,
      "outputs": [
        {
          "output_type": "execute_result",
          "data": {
            "text/plain": [
              "array([[-0.59179909, -1.31733777,  0.52419712],\n",
              "       [ 0.72508314,  0.53151059, -1.31953921],\n",
              "       [-0.44992572, -0.29830393,  1.58926698]])"
            ]
          },
          "metadata": {},
          "execution_count": 61
        }
      ]
    },
    {
      "cell_type": "code",
      "source": [
        "arr.mean()"
      ],
      "metadata": {
        "colab": {
          "base_uri": "https://localhost:8080/"
        },
        "id": "utoYZMD_r5bE",
        "outputId": "d9c2dc15-162c-4928-dac3-7a3af5afffc8"
      },
      "execution_count": 62,
      "outputs": [
        {
          "output_type": "execute_result",
          "data": {
            "text/plain": [
              "np.float64(-0.0674275430065088)"
            ]
          },
          "metadata": {},
          "execution_count": 62
        }
      ]
    },
    {
      "cell_type": "code",
      "source": [
        "np.mean(arr)"
      ],
      "metadata": {
        "colab": {
          "base_uri": "https://localhost:8080/"
        },
        "id": "4iNTLdWmsA2W",
        "outputId": "195d9145-5fbc-4687-b73b-bdb8bb3deb1b"
      },
      "execution_count": 63,
      "outputs": [
        {
          "output_type": "execute_result",
          "data": {
            "text/plain": [
              "np.float64(-0.0674275430065088)"
            ]
          },
          "metadata": {},
          "execution_count": 63
        }
      ]
    },
    {
      "cell_type": "code",
      "source": [
        "arr.sum()"
      ],
      "metadata": {
        "colab": {
          "base_uri": "https://localhost:8080/"
        },
        "id": "fIxEUpcYsEbs",
        "outputId": "73cc6a44-a9ed-4a7d-8cc7-bf4b60e7a1b6"
      },
      "execution_count": 64,
      "outputs": [
        {
          "output_type": "execute_result",
          "data": {
            "text/plain": [
              "np.float64(-0.6068478870585792)"
            ]
          },
          "metadata": {},
          "execution_count": 64
        }
      ]
    },
    {
      "cell_type": "markdown",
      "source": [
        "**arr.mean(axis=1) means “compute mean across the columns,” where\n",
        "arr.sum(axis=0) means “compute sum down the rows.**"
      ],
      "metadata": {
        "id": "2x3wmmDcscMP"
      }
    },
    {
      "cell_type": "code",
      "source": [
        "arr.mean(axis = 0)"
      ],
      "metadata": {
        "colab": {
          "base_uri": "https://localhost:8080/"
        },
        "id": "aOdtYu8ksGVo",
        "outputId": "9288b137-643b-4e07-e174-8e179709b893"
      },
      "execution_count": 65,
      "outputs": [
        {
          "output_type": "execute_result",
          "data": {
            "text/plain": [
              "array([-0.10554722, -0.36137704,  0.26464163])"
            ]
          },
          "metadata": {},
          "execution_count": 65
        }
      ]
    },
    {
      "cell_type": "code",
      "source": [
        "arr.mean(axis = 1)"
      ],
      "metadata": {
        "colab": {
          "base_uri": "https://localhost:8080/"
        },
        "id": "qtgcnjbFsgKv",
        "outputId": "a46b7d18-4488-4988-9deb-16821db44f39"
      },
      "execution_count": 66,
      "outputs": [
        {
          "output_type": "execute_result",
          "data": {
            "text/plain": [
              "array([-0.46164658, -0.02098183,  0.28034578])"
            ]
          },
          "metadata": {},
          "execution_count": 66
        }
      ]
    },
    {
      "cell_type": "markdown",
      "source": [
        "**Other methods like cumsum and cumprod do not aggregate, instead producing an array\n",
        "of the intermediate results:**"
      ],
      "metadata": {
        "id": "QXNVCYqAsolS"
      }
    },
    {
      "cell_type": "code",
      "source": [
        "arr = np.array([0,1,2,3,4,5,6,7,8,9,10])"
      ],
      "metadata": {
        "id": "SRdwyxM2sh6e"
      },
      "execution_count": 67,
      "outputs": []
    },
    {
      "cell_type": "code",
      "source": [
        "arr"
      ],
      "metadata": {
        "colab": {
          "base_uri": "https://localhost:8080/"
        },
        "id": "cgmm0YXIsynK",
        "outputId": "6b6b2b1b-f382-4aa2-81b3-3a3dea74cb17"
      },
      "execution_count": 68,
      "outputs": [
        {
          "output_type": "execute_result",
          "data": {
            "text/plain": [
              "array([ 0,  1,  2,  3,  4,  5,  6,  7,  8,  9, 10])"
            ]
          },
          "metadata": {},
          "execution_count": 68
        }
      ]
    },
    {
      "cell_type": "code",
      "source": [
        "arr.cumsum()"
      ],
      "metadata": {
        "colab": {
          "base_uri": "https://localhost:8080/"
        },
        "id": "ucS4GjjwszDu",
        "outputId": "cda2feb2-ea4a-4eb6-af2f-65d5e9c772ac"
      },
      "execution_count": 69,
      "outputs": [
        {
          "output_type": "execute_result",
          "data": {
            "text/plain": [
              "array([ 0,  1,  3,  6, 10, 15, 21, 28, 36, 45, 55])"
            ]
          },
          "metadata": {},
          "execution_count": 69
        }
      ]
    },
    {
      "cell_type": "markdown",
      "source": [
        "**In multidimensional arrays, accumulation functions like cumsum return an array of\n",
        "the same size but with the partial aggregates computed along the indicated axis\n",
        "according to each lower dimensional slice:**\n",
        "\n",
        "* The expression arr.cumsum(axis=0) computes the cumulative sum along the rows,\n",
        "while arr.cumsum(axis=1) computes the sums along the columns"
      ],
      "metadata": {
        "id": "3KfI-h_Hs-Xo"
      }
    },
    {
      "cell_type": "code",
      "source": [
        "arr = np.array([[0, 1, 2], [3, 4, 5], [6, 7, 8]])"
      ],
      "metadata": {
        "id": "TpbY5_Z6s1o6"
      },
      "execution_count": 70,
      "outputs": []
    },
    {
      "cell_type": "code",
      "source": [
        "arr"
      ],
      "metadata": {
        "colab": {
          "base_uri": "https://localhost:8080/"
        },
        "id": "w3EaPNm5tFl2",
        "outputId": "11b7286d-2f05-42cb-9fa3-035228f8c2b9"
      },
      "execution_count": 71,
      "outputs": [
        {
          "output_type": "execute_result",
          "data": {
            "text/plain": [
              "array([[0, 1, 2],\n",
              "       [3, 4, 5],\n",
              "       [6, 7, 8]])"
            ]
          },
          "metadata": {},
          "execution_count": 71
        }
      ]
    },
    {
      "cell_type": "code",
      "source": [
        "arr.cumsum(axis = 0)"
      ],
      "metadata": {
        "colab": {
          "base_uri": "https://localhost:8080/"
        },
        "id": "41ik0v2itRlG",
        "outputId": "ec8cb383-1f0c-444c-befa-7daf0d2fb2ce"
      },
      "execution_count": 75,
      "outputs": [
        {
          "output_type": "execute_result",
          "data": {
            "text/plain": [
              "array([[ 0,  1,  2],\n",
              "       [ 3,  5,  7],\n",
              "       [ 9, 12, 15]])"
            ]
          },
          "metadata": {},
          "execution_count": 75
        }
      ]
    },
    {
      "cell_type": "code",
      "source": [
        "arr.cumsum(axis = 1)"
      ],
      "metadata": {
        "colab": {
          "base_uri": "https://localhost:8080/"
        },
        "id": "ecCoMne1tUU7",
        "outputId": "bf64b2a9-d2f0-46a7-8b90-6a40e3f65a80"
      },
      "execution_count": 76,
      "outputs": [
        {
          "output_type": "execute_result",
          "data": {
            "text/plain": [
              "array([[ 0,  1,  3],\n",
              "       [ 3,  7, 12],\n",
              "       [ 6, 13, 21]])"
            ]
          },
          "metadata": {},
          "execution_count": 76
        }
      ]
    },
    {
      "cell_type": "code",
      "source": [
        "arr.max(axis = 0)"
      ],
      "metadata": {
        "colab": {
          "base_uri": "https://localhost:8080/"
        },
        "id": "sg4eVlnNtm0f",
        "outputId": "b9ec8975-cea5-4eef-d01c-53c84d3928ba"
      },
      "execution_count": 79,
      "outputs": [
        {
          "output_type": "execute_result",
          "data": {
            "text/plain": [
              "array([6, 7, 8])"
            ]
          },
          "metadata": {},
          "execution_count": 79
        }
      ]
    },
    {
      "cell_type": "code",
      "source": [
        "arr = np.random.normal(size = (2,2))"
      ],
      "metadata": {
        "id": "h_vujgaytuhF"
      },
      "execution_count": 82,
      "outputs": []
    },
    {
      "cell_type": "code",
      "source": [
        "arr"
      ],
      "metadata": {
        "colab": {
          "base_uri": "https://localhost:8080/"
        },
        "id": "mINphj5TuJSB",
        "outputId": "dd2e4e3d-32fd-40c1-cdc1-c8c5bb94a4be"
      },
      "execution_count": 83,
      "outputs": [
        {
          "output_type": "execute_result",
          "data": {
            "text/plain": [
              "array([[-0.35606098,  0.22755743],\n",
              "       [-1.78598823,  2.15643951]])"
            ]
          },
          "metadata": {},
          "execution_count": 83
        }
      ]
    },
    {
      "cell_type": "code",
      "source": [
        "arr > 0"
      ],
      "metadata": {
        "colab": {
          "base_uri": "https://localhost:8080/"
        },
        "id": "W7YKfo8juJyO",
        "outputId": "5384e8a5-810a-414d-98b7-cee9efb03c66"
      },
      "execution_count": 84,
      "outputs": [
        {
          "output_type": "execute_result",
          "data": {
            "text/plain": [
              "array([[False,  True],\n",
              "       [False,  True]])"
            ]
          },
          "metadata": {},
          "execution_count": 84
        }
      ]
    },
    {
      "cell_type": "code",
      "source": [
        "# Number of positive values\n",
        "(arr > 0).sum()"
      ],
      "metadata": {
        "colab": {
          "base_uri": "https://localhost:8080/"
        },
        "id": "NE-eVz62uPJB",
        "outputId": "a802938c-3d58-424d-b6a1-33197627e255"
      },
      "execution_count": 86,
      "outputs": [
        {
          "output_type": "execute_result",
          "data": {
            "text/plain": [
              "np.int64(2)"
            ]
          },
          "metadata": {},
          "execution_count": 86
        }
      ]
    },
    {
      "cell_type": "code",
      "source": [
        "# Number of negative values\n",
        "(arr < 0).sum()"
      ],
      "metadata": {
        "colab": {
          "base_uri": "https://localhost:8080/"
        },
        "id": "3-_czCkFuULH",
        "outputId": "cc0db676-a018-4355-fd72-9256bc5ffb73"
      },
      "execution_count": 87,
      "outputs": [
        {
          "output_type": "execute_result",
          "data": {
            "text/plain": [
              "np.int64(2)"
            ]
          },
          "metadata": {},
          "execution_count": 87
        }
      ]
    },
    {
      "cell_type": "markdown",
      "source": [
        "**Sorting**"
      ],
      "metadata": {
        "id": "rHJTdtNmvckL"
      }
    },
    {
      "cell_type": "code",
      "source": [
        "arr = np.random.normal(size = (2,4))"
      ],
      "metadata": {
        "id": "wfN8a-qPu3-H"
      },
      "execution_count": 88,
      "outputs": []
    },
    {
      "cell_type": "code",
      "source": [
        "arr"
      ],
      "metadata": {
        "colab": {
          "base_uri": "https://localhost:8080/"
        },
        "id": "NJ_Ps4olvh88",
        "outputId": "d195d72e-43a5-45c8-913c-462c0a6d4ee1"
      },
      "execution_count": 89,
      "outputs": [
        {
          "output_type": "execute_result",
          "data": {
            "text/plain": [
              "array([[ 0.88928412, -0.03591205, -0.39316022,  1.35452709],\n",
              "       [-0.2744059 ,  1.32717251, -0.47144573,  0.26523685]])"
            ]
          },
          "metadata": {},
          "execution_count": 89
        }
      ]
    },
    {
      "cell_type": "code",
      "source": [
        "arr.sort(axis = 0)\n",
        "arr"
      ],
      "metadata": {
        "colab": {
          "base_uri": "https://localhost:8080/"
        },
        "id": "d4VepXnzviYk",
        "outputId": "4fba6429-840a-4ba4-949d-2b4780130715"
      },
      "execution_count": 92,
      "outputs": [
        {
          "output_type": "execute_result",
          "data": {
            "text/plain": [
              "array([[-0.2744059 , -0.03591205, -0.47144573,  0.26523685],\n",
              "       [ 0.88928412,  1.32717251, -0.39316022,  1.35452709]])"
            ]
          },
          "metadata": {},
          "execution_count": 92
        }
      ]
    },
    {
      "cell_type": "code",
      "source": [
        "arr.sort(axis = 1)\n",
        "arr"
      ],
      "metadata": {
        "colab": {
          "base_uri": "https://localhost:8080/"
        },
        "id": "vDw3zGB0vkm5",
        "outputId": "59ef11b7-fce1-49ce-fffc-efd013ad23fe"
      },
      "execution_count": 94,
      "outputs": [
        {
          "output_type": "execute_result",
          "data": {
            "text/plain": [
              "array([[-0.47144573, -0.2744059 , -0.03591205,  0.26523685],\n",
              "       [-0.39316022,  0.88928412,  1.32717251,  1.35452709]])"
            ]
          },
          "metadata": {},
          "execution_count": 94
        }
      ]
    },
    {
      "cell_type": "markdown",
      "source": [
        "**Unique and Other Set Logic**\n",
        "* NumPy has some basic set operations for one-dimensional ndarrays. A commonly\n",
        "used one is numpy.unique, which returns the sorted unique values in an array:\n"
      ],
      "metadata": {
        "id": "ApPkwR87wFmb"
      }
    },
    {
      "cell_type": "code",
      "source": [
        "names = np.array([\"Bob\", \"Will\", \"Joe\", \"Bob\", \"Will\", \"Joe\", \"Joe\"])"
      ],
      "metadata": {
        "id": "4ZJKcb-TvpnA"
      },
      "execution_count": 95,
      "outputs": []
    },
    {
      "cell_type": "code",
      "source": [
        "np.unique(names)"
      ],
      "metadata": {
        "colab": {
          "base_uri": "https://localhost:8080/"
        },
        "id": "IMuDXmgKwQBb",
        "outputId": "73c6b474-8adc-4f5f-b2dd-07780c713ff5"
      },
      "execution_count": 97,
      "outputs": [
        {
          "output_type": "execute_result",
          "data": {
            "text/plain": [
              "array(['Bob', 'Joe', 'Will'], dtype='<U4')"
            ]
          },
          "metadata": {},
          "execution_count": 97
        }
      ]
    },
    {
      "cell_type": "code",
      "source": [
        "ints = np.array([3, 3, 3, 2, 2, 1, 1, 4, 4])"
      ],
      "metadata": {
        "id": "hDu9IioBwRUB"
      },
      "execution_count": 98,
      "outputs": []
    },
    {
      "cell_type": "code",
      "source": [
        "np.unique(ints)"
      ],
      "metadata": {
        "colab": {
          "base_uri": "https://localhost:8080/"
        },
        "id": "JOpJLPtOwZ3N",
        "outputId": "f90083cb-5095-4c76-fa84-10aa7a3eb672"
      },
      "execution_count": 99,
      "outputs": [
        {
          "output_type": "execute_result",
          "data": {
            "text/plain": [
              "array([1, 2, 3, 4])"
            ]
          },
          "metadata": {},
          "execution_count": 99
        }
      ]
    },
    {
      "cell_type": "markdown",
      "source": [
        "**Another function, numpy.in1d, tests membership of the values in one array in\n",
        "another, returning a Boolean array:**"
      ],
      "metadata": {
        "id": "rV3P2Zbnwquw"
      }
    },
    {
      "cell_type": "code",
      "source": [
        "values = np.array([6, 0, 0, 3, 2, 5, 6])"
      ],
      "metadata": {
        "id": "z4bYj3Alwcln"
      },
      "execution_count": 100,
      "outputs": []
    },
    {
      "cell_type": "code",
      "source": [
        "np.in1d(values,[2,3,6])"
      ],
      "metadata": {
        "colab": {
          "base_uri": "https://localhost:8080/"
        },
        "id": "VXscaMR_wuVo",
        "outputId": "2e6841e0-111c-4008-9458-c0d3590893c3"
      },
      "execution_count": 101,
      "outputs": [
        {
          "output_type": "stream",
          "name": "stderr",
          "text": [
            "<ipython-input-101-d45d6c47b1e3>:1: DeprecationWarning: `in1d` is deprecated. Use `np.isin` instead.\n",
            "  np.in1d(values,[2,3,6])\n"
          ]
        },
        {
          "output_type": "execute_result",
          "data": {
            "text/plain": [
              "array([ True, False, False,  True,  True, False,  True])"
            ]
          },
          "metadata": {},
          "execution_count": 101
        }
      ]
    },
    {
      "cell_type": "markdown",
      "source": [
        "**Linear Algebra**"
      ],
      "metadata": {
        "id": "Z3-9cKUlzHQO"
      }
    },
    {
      "cell_type": "code",
      "source": [
        "x = np.array([[1., 2., 3.], [4., 5., 6.]])"
      ],
      "metadata": {
        "id": "jAz8sCp4w0Pu"
      },
      "execution_count": 103,
      "outputs": []
    },
    {
      "cell_type": "code",
      "source": [
        "y = np.array([[6., 23.], [-1, 7], [8, 9]])"
      ],
      "metadata": {
        "id": "E1OZXirezBVt"
      },
      "execution_count": 104,
      "outputs": []
    },
    {
      "cell_type": "code",
      "source": [
        "x"
      ],
      "metadata": {
        "colab": {
          "base_uri": "https://localhost:8080/"
        },
        "id": "hL9AXDSqzNnl",
        "outputId": "8dacd799-9191-4f85-c010-fb72b4831861"
      },
      "execution_count": 105,
      "outputs": [
        {
          "output_type": "execute_result",
          "data": {
            "text/plain": [
              "array([[1., 2., 3.],\n",
              "       [4., 5., 6.]])"
            ]
          },
          "metadata": {},
          "execution_count": 105
        }
      ]
    },
    {
      "cell_type": "code",
      "source": [
        "y"
      ],
      "metadata": {
        "colab": {
          "base_uri": "https://localhost:8080/"
        },
        "id": "5h-t6IJfzO_q",
        "outputId": "ef3a9e3e-8ae7-455c-974e-210f6c91a476"
      },
      "execution_count": 106,
      "outputs": [
        {
          "output_type": "execute_result",
          "data": {
            "text/plain": [
              "array([[ 6., 23.],\n",
              "       [-1.,  7.],\n",
              "       [ 8.,  9.]])"
            ]
          },
          "metadata": {},
          "execution_count": 106
        }
      ]
    },
    {
      "cell_type": "code",
      "source": [
        "x.dot(y)"
      ],
      "metadata": {
        "colab": {
          "base_uri": "https://localhost:8080/"
        },
        "id": "Bc70ZA1FzPV3",
        "outputId": "8693e57b-562b-43bc-b4b2-66ebeb5d91c3"
      },
      "execution_count": 107,
      "outputs": [
        {
          "output_type": "execute_result",
          "data": {
            "text/plain": [
              "array([[ 28.,  64.],\n",
              "       [ 67., 181.]])"
            ]
          },
          "metadata": {},
          "execution_count": 107
        }
      ]
    },
    {
      "cell_type": "code",
      "source": [
        "np.dot(x,y)"
      ],
      "metadata": {
        "colab": {
          "base_uri": "https://localhost:8080/"
        },
        "id": "5LKurK8XzQ8Q",
        "outputId": "267d14c5-abc9-4cb5-b723-3767329b7913"
      },
      "execution_count": 108,
      "outputs": [
        {
          "output_type": "execute_result",
          "data": {
            "text/plain": [
              "array([[ 28.,  64.],\n",
              "       [ 67., 181.]])"
            ]
          },
          "metadata": {},
          "execution_count": 108
        }
      ]
    },
    {
      "cell_type": "code",
      "source": [
        "x @ y"
      ],
      "metadata": {
        "colab": {
          "base_uri": "https://localhost:8080/"
        },
        "id": "8ix7HYa5zULW",
        "outputId": "5de38da3-de22-4d14-88d1-92c7fc6f1727"
      },
      "execution_count": 109,
      "outputs": [
        {
          "output_type": "execute_result",
          "data": {
            "text/plain": [
              "array([[ 28.,  64.],\n",
              "       [ 67., 181.]])"
            ]
          },
          "metadata": {},
          "execution_count": 109
        }
      ]
    },
    {
      "cell_type": "code",
      "source": [
        "x @ np.ones(3)"
      ],
      "metadata": {
        "colab": {
          "base_uri": "https://localhost:8080/"
        },
        "id": "pXln3Yr0zWqM",
        "outputId": "ee8dcf5a-6939-4f48-cd44-22da71f72185"
      },
      "execution_count": 111,
      "outputs": [
        {
          "output_type": "execute_result",
          "data": {
            "text/plain": [
              "array([ 6., 15.])"
            ]
          },
          "metadata": {},
          "execution_count": 111
        }
      ]
    },
    {
      "cell_type": "markdown",
      "source": [
        "**numpy.linalg has a standard set of matrix decompositions and things like inverse\n",
        "and determinant:**"
      ],
      "metadata": {
        "id": "mhgOr2vczrXn"
      }
    },
    {
      "cell_type": "code",
      "source": [
        "from numpy.linalg import inv, qr"
      ],
      "metadata": {
        "id": "pB3UOz-0z1Jo"
      },
      "execution_count": 114,
      "outputs": []
    },
    {
      "cell_type": "code",
      "source": [
        "x = np.random.normal(size =  (3,3))"
      ],
      "metadata": {
        "id": "Vv9W9Rr0zbbv"
      },
      "execution_count": 115,
      "outputs": []
    },
    {
      "cell_type": "code",
      "source": [
        "x"
      ],
      "metadata": {
        "colab": {
          "base_uri": "https://localhost:8080/"
        },
        "id": "u6NkkDa6zxsn",
        "outputId": "ca516fbf-c363-4658-84e3-1dd262412e1a"
      },
      "execution_count": 116,
      "outputs": [
        {
          "output_type": "execute_result",
          "data": {
            "text/plain": [
              "array([[ 1.5101701 , -2.08053549,  0.00737363],\n",
              "       [ 2.01499995, -0.34950199, -0.63435276],\n",
              "       [ 1.08788977, -0.7441714 , -1.03753045]])"
            ]
          },
          "metadata": {},
          "execution_count": 116
        }
      ]
    },
    {
      "cell_type": "code",
      "source": [
        "inv(x)"
      ],
      "metadata": {
        "colab": {
          "base_uri": "https://localhost:8080/"
        },
        "id": "vP9B6VcSzyJL",
        "outputId": "4dea40e1-0386-4e7e-f9e9-522860581913"
      },
      "execution_count": 117,
      "outputs": [
        {
          "output_type": "execute_result",
          "data": {
            "text/plain": [
              "array([[ 0.03545036,  0.70095552, -0.42831675],\n",
              "       [-0.45362875,  0.51010124, -0.31510306],\n",
              "       [ 0.36253743,  0.36910685, -1.18692491]])"
            ]
          },
          "metadata": {},
          "execution_count": 117
        }
      ]
    },
    {
      "cell_type": "code",
      "source": [
        "qr(x)"
      ],
      "metadata": {
        "colab": {
          "base_uri": "https://localhost:8080/"
        },
        "id": "FmsT4d1Rz7Z5",
        "outputId": "a8235a88-b62f-4b6a-833a-6a1658ef48a2"
      },
      "execution_count": 118,
      "outputs": [
        {
          "output_type": "execute_result",
          "data": {
            "text/plain": [
              "QRResult(Q=array([[-0.55054343,  0.78644947, -0.27999852],\n",
              "       [-0.7345828 , -0.61572876, -0.28507228],\n",
              "       [-0.39659808,  0.04873743,  0.91669767]]), R=array([[-2.74305353,  1.69730025,  0.87340771],\n",
              "       [ 0.        , -1.4573066 ,  0.34582165],\n",
              "       [ 0.        ,  0.        , -0.77232996]]))"
            ]
          },
          "metadata": {},
          "execution_count": 118
        }
      ]
    },
    {
      "cell_type": "markdown",
      "source": [
        "**Example: Random Walks**"
      ],
      "metadata": {
        "id": "udyVEG8z0fR0"
      }
    },
    {
      "cell_type": "code",
      "source": [
        "import random\n",
        "import matplotlib.pyplot as plt"
      ],
      "metadata": {
        "id": "tyX5T-NA0C5N"
      },
      "execution_count": 123,
      "outputs": []
    },
    {
      "cell_type": "code",
      "source": [
        "position = 0\n",
        "walk = [position]\n",
        "nsteps = 1000\n",
        "for i in range(nsteps):\n",
        "  step = 1 if random.randint(0,1) else -1\n",
        "  position += step\n",
        "  walk.append(position)"
      ],
      "metadata": {
        "id": "ro0o-JST0keF"
      },
      "execution_count": 124,
      "outputs": []
    },
    {
      "cell_type": "code",
      "source": [
        "plt.plot(walk[:1000])"
      ],
      "metadata": {
        "colab": {
          "base_uri": "https://localhost:8080/",
          "height": 447
        },
        "id": "0TSO-eDQ1gwO",
        "outputId": "1ace31b0-77c6-43c0-b4bc-c78b2f52e344"
      },
      "execution_count": 125,
      "outputs": [
        {
          "output_type": "execute_result",
          "data": {
            "text/plain": [
              "[<matplotlib.lines.Line2D at 0x7ae229ad5390>]"
            ]
          },
          "metadata": {},
          "execution_count": 125
        },
        {
          "output_type": "display_data",
          "data": {
            "text/plain": [
              "<Figure size 640x480 with 1 Axes>"
            ],
            "image/png": "[encoded data removed]"
          },
          "metadata": {}
        }
      ]
    },
    {
      "cell_type": "code",
      "source": [
        "random.randint(0,1)"
      ],
      "metadata": {
        "colab": {
          "base_uri": "https://localhost:8080/"
        },
        "id": "Pzgd17tW1h5X",
        "outputId": "10f570f9-7de3-44a2-ec33-5114551ded74"
      },
      "execution_count": 133,
      "outputs": [
        {
          "output_type": "execute_result",
          "data": {
            "text/plain": [
              "1"
            ]
          },
          "metadata": {},
          "execution_count": 133
        }
      ]
    },
    {
      "cell_type": "code",
      "source": [
        "nsteps = 1000\n",
        "rng = np.random.default_rng(seed=12345) # fresh random generator"
      ],
      "metadata": {
        "id": "EDh6yqV714IX"
      },
      "execution_count": 145,
      "outputs": []
    },
    {
      "cell_type": "code",
      "source": [
        "draws = rng.integers(0, 2, size=nsteps) * 2 -1"
      ],
      "metadata": {
        "id": "jT8e-Wxo2me6"
      },
      "execution_count": 152,
      "outputs": []
    },
    {
      "cell_type": "code",
      "source": [
        "# steps = np.where(draws == 0,1,-1)"
      ],
      "metadata": {
        "id": "W3zmpFaJ2pHr"
      },
      "execution_count": 154,
      "outputs": []
    },
    {
      "cell_type": "code",
      "source": [
        "#steps"
      ],
      "metadata": {
        "id": "rMzvW2CT3563"
      },
      "execution_count": 155,
      "outputs": []
    },
    {
      "cell_type": "code",
      "source": [
        "walk = steps.cumsum()"
      ],
      "metadata": {
        "id": "a5mGXEuq36kv"
      },
      "execution_count": 150,
      "outputs": []
    },
    {
      "cell_type": "code",
      "source": [
        "plt.plot(walk)"
      ],
      "metadata": {
        "colab": {
          "base_uri": "https://localhost:8080/",
          "height": 447
        },
        "id": "CWPBO5nX47X4",
        "outputId": "da4ade94-f9df-4870-e8b9-0156800b9808"
      },
      "execution_count": 151,
      "outputs": [
        {
          "output_type": "execute_result",
          "data": {
            "text/plain": [
              "[<matplotlib.lines.Line2D at 0x7ae229abbb10>]"
            ]
          },
          "metadata": {},
          "execution_count": 151
        },
        {
          "output_type": "display_data",
          "data": {
            "text/plain": [
              "<Figure size 640x480 with 1 Axes>"
            ],
            "image/png": "[encoded data removed]"
          },
          "metadata": {}
        }
      ]
    },
    {
      "cell_type": "markdown",
      "source": [
        "**Simulating Many Random Walks at Once**"
      ],
      "metadata": {
        "id": "gnr5MgiC8MOZ"
      }
    },
    {
      "cell_type": "code",
      "source": [
        "nwalks = 5\n",
        "nsteps = 10"
      ],
      "metadata": {
        "id": "vaaNNfdC4_Cl"
      },
      "execution_count": 167,
      "outputs": []
    },
    {
      "cell_type": "code",
      "source": [
        "rng = np.random.default_rng(seed=12345) # fresh random generator\n",
        "steps = rng.integers(0, 2, size=(nwalks, nsteps)) * 2 -1\n",
        "steps"
      ],
      "metadata": {
        "colab": {
          "base_uri": "https://localhost:8080/"
        },
        "id": "Jj90f6Qs8VNE",
        "outputId": "375e12fc-5d60-4a6c-b3fc-7845b2f40380"
      },
      "execution_count": 166,
      "outputs": [
        {
          "output_type": "execute_result",
          "data": {
            "text/plain": [
              "array([[ 1, -1,  1, -1, -1,  1,  1,  1,  1, -1],\n",
              "       [ 1, -1,  1,  1, -1, -1, -1,  1,  1,  1],\n",
              "       [ 1, -1,  1,  1,  1,  1, -1, -1, -1, -1],\n",
              "       [-1,  1, -1,  1, -1, -1, -1,  1,  1, -1],\n",
              "       [ 1, -1, -1, -1,  1, -1, -1, -1, -1, -1]])"
            ]
          },
          "metadata": {},
          "execution_count": 166
        }
      ]
    },
    {
      "cell_type": "code",
      "source": [
        "walks = steps.cumsum(axis = 1)"
      ],
      "metadata": {
        "id": "MsuN-qf08o1x"
      },
      "execution_count": 168,
      "outputs": []
    },
    {
      "cell_type": "code",
      "source": [
        "walks"
      ],
      "metadata": {
        "colab": {
          "base_uri": "https://localhost:8080/"
        },
        "id": "f2b8vdqY8uv6",
        "outputId": "38b5ce5f-a4c0-412e-cd64-ab1b50d340f2"
      },
      "execution_count": 169,
      "outputs": [
        {
          "output_type": "execute_result",
          "data": {
            "text/plain": [
              "array([[ 1,  0,  1,  0, -1,  0,  1,  2,  3,  2],\n",
              "       [ 1,  0,  1,  2,  1,  0, -1,  0,  1,  2],\n",
              "       [ 1,  0,  1,  2,  3,  4,  3,  2,  1,  0],\n",
              "       [-1,  0, -1,  0, -1, -2, -3, -2, -1, -2],\n",
              "       [ 1,  0, -1, -2, -1, -2, -3, -4, -5, -6]])"
            ]
          },
          "metadata": {},
          "execution_count": 169
        }
      ]
    },
    {
      "cell_type": "code",
      "source": [
        "plt.plot(walks)"
      ],
      "metadata": {
        "colab": {
          "base_uri": "https://localhost:8080/",
          "height": 604
        },
        "id": "KWJa4WAD9Vpl",
        "outputId": "54f4aa45-34f3-4ca7-d8de-920d8874d26b"
      },
      "execution_count": 170,
      "outputs": [
        {
          "output_type": "execute_result",
          "data": {
            "text/plain": [
              "[<matplotlib.lines.Line2D at 0x7ae22aaf5650>,\n",
              " <matplotlib.lines.Line2D at 0x7ae22ba31a90>,\n",
              " <matplotlib.lines.Line2D at 0x7ae22ba30d10>,\n",
              " <matplotlib.lines.Line2D at 0x7ae22ba33190>,\n",
              " <matplotlib.lines.Line2D at 0x7ae22ba338d0>,\n",
              " <matplotlib.lines.Line2D at 0x7ae22ba311d0>,\n",
              " <matplotlib.lines.Line2D at 0x7ae22ba30410>,\n",
              " <matplotlib.lines.Line2D at 0x7ae22ba310d0>,\n",
              " <matplotlib.lines.Line2D at 0x7ae22ba330d0>,\n",
              " <matplotlib.lines.Line2D at 0x7ae22ba33cd0>]"
            ]
          },
          "metadata": {},
          "execution_count": 170
        },
        {
          "output_type": "display_data",
          "data": {
            "text/plain": [
              "<Figure size 640x480 with 1 Axes>"
            ],
            "image/png": "[encoded data removed]"
          },
          "metadata": {}
        }
      ]
    },
    {
      "cell_type": "code",
      "source": [],
      "metadata": {
        "id": "7m2cjVqu-Q-w"
      },
      "execution_count": null,
      "outputs": []
    }
  ]
}