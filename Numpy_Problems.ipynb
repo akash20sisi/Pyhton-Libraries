{
  "nbformat": 4,
  "nbformat_minor": 0,
  "metadata": {
    "colab": {
      "provenance": []
    },
    "kernelspec": {
      "name": "python3",
      "display_name": "Python 3"
    },
    "language_info": {
      "name": "python"
    }
  },
  "cells": [
    {
      "cell_type": "code",
      "source": [
        "import numpy as np"
      ],
      "metadata": {
        "id": "-0M8Yb9Q2C60"
      },
      "execution_count": 2,
      "outputs": []
    },
    {
      "cell_type": "markdown",
      "source": [
        "1. Create a null vector of size 10."
      ],
      "metadata": {
        "id": "yTdVhCI_2Au8"
      }
    },
    {
      "cell_type": "code",
      "source": [
        "arr = np.zeros(10)\n",
        "arr"
      ],
      "metadata": {
        "colab": {
          "base_uri": "https://localhost:8080/"
        },
        "id": "W8LqOwLp2Hl_",
        "outputId": "19b1ff38-76a2-48e0-defa-77a4cf05a34c"
      },
      "execution_count": null,
      "outputs": [
        {
          "output_type": "execute_result",
          "data": {
            "text/plain": [
              "array([0., 0., 0., 0., 0., 0., 0., 0., 0., 0.])"
            ]
          },
          "metadata": {},
          "execution_count": 12
        }
      ]
    },
    {
      "cell_type": "code",
      "source": [
        "np.zeros_like(arr)"
      ],
      "metadata": {
        "colab": {
          "base_uri": "https://localhost:8080/"
        },
        "id": "oZvXN-P02nhU",
        "outputId": "e838af02-2691-4ddf-c524-89ff0892017b"
      },
      "execution_count": null,
      "outputs": [
        {
          "output_type": "execute_result",
          "data": {
            "text/plain": [
              "array([0., 0., 0., 0., 0., 0., 0., 0., 0., 0.])"
            ]
          },
          "metadata": {},
          "execution_count": 13
        }
      ]
    },
    {
      "cell_type": "markdown",
      "source": [
        "2. How to find the memory size of any array?"
      ],
      "metadata": {
        "id": "y5HtJA8p3HJ5"
      }
    },
    {
      "cell_type": "code",
      "source": [
        "arr = np.zeros((10,10),dtype=np.int64)"
      ],
      "metadata": {
        "id": "1nDaj2XB2s92"
      },
      "execution_count": null,
      "outputs": []
    },
    {
      "cell_type": "code",
      "source": [
        "arr"
      ],
      "metadata": {
        "colab": {
          "base_uri": "https://localhost:8080/"
        },
        "id": "njU3IS3l3V2I",
        "outputId": "51068f9e-0fbf-456c-dc92-9d517a53ebbb"
      },
      "execution_count": null,
      "outputs": [
        {
          "output_type": "execute_result",
          "data": {
            "text/plain": [
              "array([[0, 0, 0, 0, 0, 0, 0, 0, 0, 0],\n",
              "       [0, 0, 0, 0, 0, 0, 0, 0, 0, 0],\n",
              "       [0, 0, 0, 0, 0, 0, 0, 0, 0, 0],\n",
              "       [0, 0, 0, 0, 0, 0, 0, 0, 0, 0],\n",
              "       [0, 0, 0, 0, 0, 0, 0, 0, 0, 0],\n",
              "       [0, 0, 0, 0, 0, 0, 0, 0, 0, 0],\n",
              "       [0, 0, 0, 0, 0, 0, 0, 0, 0, 0],\n",
              "       [0, 0, 0, 0, 0, 0, 0, 0, 0, 0],\n",
              "       [0, 0, 0, 0, 0, 0, 0, 0, 0, 0],\n",
              "       [0, 0, 0, 0, 0, 0, 0, 0, 0, 0]])"
            ]
          },
          "metadata": {},
          "execution_count": 35
        }
      ]
    },
    {
      "cell_type": "code",
      "source": [
        "print(f\"{arr.size*arr.itemsize} bytes\")"
      ],
      "metadata": {
        "colab": {
          "base_uri": "https://localhost:8080/"
        },
        "id": "sFunGNPA3WsZ",
        "outputId": "93e2812f-7a93-4c14-88fa-37b9556c8d86"
      },
      "execution_count": null,
      "outputs": [
        {
          "output_type": "stream",
          "name": "stdout",
          "text": [
            "800 bytes\n"
          ]
        }
      ]
    },
    {
      "cell_type": "markdown",
      "source": [
        "3. How to get the documentation of the numpy add function from the command line?"
      ],
      "metadata": {
        "id": "3G15Akgi5TJe"
      }
    },
    {
      "cell_type": "code",
      "source": [
        "help(np.zeros)"
      ],
      "metadata": {
        "colab": {
          "base_uri": "https://localhost:8080/"
        },
        "id": "kaFGHfWv3aWA",
        "outputId": "bc8ba0ee-c536-4b6d-9954-c73cf5ff2105"
      },
      "execution_count": null,
      "outputs": [
        {
          "output_type": "stream",
          "name": "stdout",
          "text": [
            "Help on built-in function zeros in module numpy:\n",
            "\n",
            "zeros(...)\n",
            "    zeros(shape, dtype=float, order='C', *, like=None)\n",
            "    \n",
            "    Return a new array of given shape and type, filled with zeros.\n",
            "    \n",
            "    Parameters\n",
            "    ----------\n",
            "    shape : int or tuple of ints\n",
            "        Shape of the new array, e.g., ``(2, 3)`` or ``2``.\n",
            "    dtype : data-type, optional\n",
            "        The desired data-type for the array, e.g., `numpy.int8`.  Default is\n",
            "        `numpy.float64`.\n",
            "    order : {'C', 'F'}, optional, default: 'C'\n",
            "        Whether to store multi-dimensional data in row-major\n",
            "        (C-style) or column-major (Fortran-style) order in\n",
            "        memory.\n",
            "    like : array_like, optional\n",
            "        Reference object to allow the creation of arrays which are not\n",
            "        NumPy arrays. If an array-like passed in as ``like`` supports\n",
            "        the ``__array_function__`` protocol, the result will be defined\n",
            "        by it. In this case, it ensures the creation of an array object\n",
            "        compatible with that passed in via this argument.\n",
            "    \n",
            "        .. versionadded:: 1.20.0\n",
            "    \n",
            "    Returns\n",
            "    -------\n",
            "    out : ndarray\n",
            "        Array of zeros with the given shape, dtype, and order.\n",
            "    \n",
            "    See Also\n",
            "    --------\n",
            "    zeros_like : Return an array of zeros with shape and type of input.\n",
            "    empty : Return a new uninitialized array.\n",
            "    ones : Return a new array setting values to one.\n",
            "    full : Return a new array of given shape filled with value.\n",
            "    \n",
            "    Examples\n",
            "    --------\n",
            "    >>> np.zeros(5)\n",
            "    array([ 0.,  0.,  0.,  0.,  0.])\n",
            "    \n",
            "    >>> np.zeros((5,), dtype=int)\n",
            "    array([0, 0, 0, 0, 0])\n",
            "    \n",
            "    >>> np.zeros((2, 1))\n",
            "    array([[ 0.],\n",
            "           [ 0.]])\n",
            "    \n",
            "    >>> s = (2,2)\n",
            "    >>> np.zeros(s)\n",
            "    array([[ 0.,  0.],\n",
            "           [ 0.,  0.]])\n",
            "    \n",
            "    >>> np.zeros((2,), dtype=[('x', 'i4'), ('y', 'i4')]) # custom dtype\n",
            "    array([(0, 0), (0, 0)],\n",
            "          dtype=[('x', '<i4'), ('y', '<i4')])\n",
            "\n"
          ]
        }
      ]
    },
    {
      "cell_type": "code",
      "source": [
        "help(np.add)"
      ],
      "metadata": {
        "colab": {
          "base_uri": "https://localhost:8080/"
        },
        "id": "D-t2OI9L3xaQ",
        "outputId": "81dab9d2-ed7c-432f-8106-baaf46e6cff2"
      },
      "execution_count": null,
      "outputs": [
        {
          "output_type": "stream",
          "name": "stdout",
          "text": [
            "Help on ufunc:\n",
            "\n",
            "add = <ufunc 'add'>\n",
            "    add(x1, x2, /, out=None, *, where=True, casting='same_kind', order='K', dtype=None, subok=True[, signature])\n",
            "    \n",
            "    Add arguments element-wise.\n",
            "    \n",
            "    Parameters\n",
            "    ----------\n",
            "    x1, x2 : array_like\n",
            "        The arrays to be added.\n",
            "        If ``x1.shape != x2.shape``, they must be broadcastable to a common\n",
            "        shape (which becomes the shape of the output).\n",
            "    out : ndarray, None, or tuple of ndarray and None, optional\n",
            "        A location into which the result is stored. If provided, it must have\n",
            "        a shape that the inputs broadcast to. If not provided or None,\n",
            "        a freshly-allocated array is returned. A tuple (possible only as a\n",
            "        keyword argument) must have length equal to the number of outputs.\n",
            "    where : array_like, optional\n",
            "        This condition is broadcast over the input. At locations where the\n",
            "        condition is True, the `out` array will be set to the ufunc result.\n",
            "        Elsewhere, the `out` array will retain its original value.\n",
            "        Note that if an uninitialized `out` array is created via the default\n",
            "        ``out=None``, locations within it where the condition is False will\n",
            "        remain uninitialized.\n",
            "    **kwargs\n",
            "        For other keyword-only arguments, see the\n",
            "        :ref:`ufunc docs <ufuncs.kwargs>`.\n",
            "    \n",
            "    Returns\n",
            "    -------\n",
            "    add : ndarray or scalar\n",
            "        The sum of `x1` and `x2`, element-wise.\n",
            "        This is a scalar if both `x1` and `x2` are scalars.\n",
            "    \n",
            "    Notes\n",
            "    -----\n",
            "    Equivalent to `x1` + `x2` in terms of array broadcasting.\n",
            "    \n",
            "    Examples\n",
            "    --------\n",
            "    >>> np.add(1.0, 4.0)\n",
            "    5.0\n",
            "    >>> x1 = np.arange(9.0).reshape((3, 3))\n",
            "    >>> x2 = np.arange(3.0)\n",
            "    >>> np.add(x1, x2)\n",
            "    array([[  0.,   2.,   4.],\n",
            "           [  3.,   5.,   7.],\n",
            "           [  6.,   8.,  10.]])\n",
            "    \n",
            "    The ``+`` operator can be used as a shorthand for ``np.add`` on ndarrays.\n",
            "    \n",
            "    >>> x1 = np.arange(9.0).reshape((3, 3))\n",
            "    >>> x2 = np.arange(3.0)\n",
            "    >>> x1 + x2\n",
            "    array([[ 0.,  2.,  4.],\n",
            "           [ 3.,  5.,  7.],\n",
            "           [ 6.,  8., 10.]])\n",
            "\n"
          ]
        }
      ]
    },
    {
      "cell_type": "code",
      "source": [
        "np.info(np.add)"
      ],
      "metadata": {
        "colab": {
          "base_uri": "https://localhost:8080/"
        },
        "id": "ACJ9HV4U6rV8",
        "outputId": "64a4fa70-afc9-4d21-d26d-5465955cc404"
      },
      "execution_count": null,
      "outputs": [
        {
          "output_type": "stream",
          "name": "stdout",
          "text": [
            "add(x1, x2, /, out=None, *, where=True, casting='same_kind', order='K', dtype=None, subok=True[, signature])\n",
            "\n",
            "Add arguments element-wise.\n",
            "\n",
            "Parameters\n",
            "----------\n",
            "x1, x2 : array_like\n",
            "    The arrays to be added.\n",
            "    If ``x1.shape != x2.shape``, they must be broadcastable to a common\n",
            "    shape (which becomes the shape of the output).\n",
            "out : ndarray, None, or tuple of ndarray and None, optional\n",
            "    A location into which the result is stored. If provided, it must have\n",
            "    a shape that the inputs broadcast to. If not provided or None,\n",
            "    a freshly-allocated array is returned. A tuple (possible only as a\n",
            "    keyword argument) must have length equal to the number of outputs.\n",
            "where : array_like, optional\n",
            "    This condition is broadcast over the input. At locations where the\n",
            "    condition is True, the `out` array will be set to the ufunc result.\n",
            "    Elsewhere, the `out` array will retain its original value.\n",
            "    Note that if an uninitialized `out` array is created via the default\n",
            "    ``out=None``, locations within it where the condition is False will\n",
            "    remain uninitialized.\n",
            "**kwargs\n",
            "    For other keyword-only arguments, see the\n",
            "    :ref:`ufunc docs <ufuncs.kwargs>`.\n",
            "\n",
            "Returns\n",
            "-------\n",
            "add : ndarray or scalar\n",
            "    The sum of `x1` and `x2`, element-wise.\n",
            "    This is a scalar if both `x1` and `x2` are scalars.\n",
            "\n",
            "Notes\n",
            "-----\n",
            "Equivalent to `x1` + `x2` in terms of array broadcasting.\n",
            "\n",
            "Examples\n",
            "--------\n",
            ">>> np.add(1.0, 4.0)\n",
            "5.0\n",
            ">>> x1 = np.arange(9.0).reshape((3, 3))\n",
            ">>> x2 = np.arange(3.0)\n",
            ">>> np.add(x1, x2)\n",
            "array([[  0.,   2.,   4.],\n",
            "       [  3.,   5.,   7.],\n",
            "       [  6.,   8.,  10.]])\n",
            "\n",
            "The ``+`` operator can be used as a shorthand for ``np.add`` on ndarrays.\n",
            "\n",
            ">>> x1 = np.arange(9.0).reshape((3, 3))\n",
            ">>> x2 = np.arange(3.0)\n",
            ">>> x1 + x2\n",
            "array([[ 0.,  2.,  4.],\n",
            "       [ 3.,  5.,  7.],\n",
            "       [ 6.,  8., 10.]])\n"
          ]
        }
      ]
    },
    {
      "cell_type": "markdown",
      "source": [
        "4.  Create a null vector of size 10 but the fifth value which is 1."
      ],
      "metadata": {
        "id": "9zS6MD7n6_x2"
      }
    },
    {
      "cell_type": "code",
      "source": [
        "arr = np.zeros(10)\n",
        "arr[4] = 1"
      ],
      "metadata": {
        "id": "75fMO24Q60vF"
      },
      "execution_count": null,
      "outputs": []
    },
    {
      "cell_type": "code",
      "source": [
        "arr"
      ],
      "metadata": {
        "colab": {
          "base_uri": "https://localhost:8080/"
        },
        "id": "eIROY5NB7Xu1",
        "outputId": "dcd07fb9-00f3-4718-bc4e-155dca91c50f"
      },
      "execution_count": null,
      "outputs": [
        {
          "output_type": "execute_result",
          "data": {
            "text/plain": [
              "array([0., 0., 0., 0., 1., 0., 0., 0., 0., 0.])"
            ]
          },
          "metadata": {},
          "execution_count": 45
        }
      ]
    },
    {
      "cell_type": "markdown",
      "source": [
        "5. Create a vector with values ranging from 10 to 49."
      ],
      "metadata": {
        "id": "bGa90Orm7luu"
      }
    },
    {
      "cell_type": "code",
      "source": [
        "np.arange(10,50)"
      ],
      "metadata": {
        "colab": {
          "base_uri": "https://localhost:8080/"
        },
        "id": "4hbWVczQ7YN3",
        "outputId": "d045aed8-d99d-4a02-b247-29ca6e80f95f"
      },
      "execution_count": null,
      "outputs": [
        {
          "output_type": "execute_result",
          "data": {
            "text/plain": [
              "array([10, 11, 12, 13, 14, 15, 16, 17, 18, 19, 20, 21, 22, 23, 24, 25, 26,\n",
              "       27, 28, 29, 30, 31, 32, 33, 34, 35, 36, 37, 38, 39, 40, 41, 42, 43,\n",
              "       44, 45, 46, 47, 48, 49])"
            ]
          },
          "metadata": {},
          "execution_count": 55
        }
      ]
    },
    {
      "cell_type": "markdown",
      "source": [
        "The key differences are:\n",
        "1. np.arange uses the step parameter to determine the spacing and the number of elements, while np.linspace uses the num parameter to determine the number of elements and calculates the spacing accordingly.\n",
        "2. np.arange excludes the stop value by default, while np.linspace includes it by default (can be excluded by setting endpoint=False).\n",
        "3. np.arange can generate integer or floating-point values depending on the inputs, whereas np.linspace typically generates floating-point values.\n",
        "4. Use np.arange when the step size between values is more important. Use np.linspace when the number of evenly spaced points is needed.\n"
      ],
      "metadata": {
        "id": "t11XDgsu_7-x"
      }
    },
    {
      "cell_type": "code",
      "source": [
        "np.linspace(10,50,40,endpoint=False,dtype=int)"
      ],
      "metadata": {
        "colab": {
          "base_uri": "https://localhost:8080/"
        },
        "id": "lvVZyMWO8d1-",
        "outputId": "4b0ca3d7-4abd-4094-8bc2-6327fee84029"
      },
      "execution_count": null,
      "outputs": [
        {
          "output_type": "execute_result",
          "data": {
            "text/plain": [
              "array([10, 11, 12, 13, 14, 15, 16, 17, 18, 19, 20, 21, 22, 23, 24, 25, 26,\n",
              "       27, 28, 29, 30, 31, 32, 33, 34, 35, 36, 37, 38, 39, 40, 41, 42, 43,\n",
              "       44, 45, 46, 47, 48, 49])"
            ]
          },
          "metadata": {},
          "execution_count": 66
        }
      ]
    },
    {
      "cell_type": "markdown",
      "source": [
        "5. Reverse a vector (first element becomes last)."
      ],
      "metadata": {
        "id": "IIOZ2TqAAKbT"
      }
    },
    {
      "cell_type": "code",
      "source": [
        "arr = np.arange(10)"
      ],
      "metadata": {
        "id": "hfhB-epz-t4l"
      },
      "execution_count": null,
      "outputs": []
    },
    {
      "cell_type": "code",
      "source": [
        "# The syntax for slicing is arr[start:stop:step].\n",
        "arr[::-1]"
      ],
      "metadata": {
        "colab": {
          "base_uri": "https://localhost:8080/"
        },
        "id": "vv8UiR6kAyZa",
        "outputId": "4b237c33-843d-453e-900c-28c40ee382a1"
      },
      "execution_count": null,
      "outputs": [
        {
          "output_type": "execute_result",
          "data": {
            "text/plain": [
              "array([9, 8, 7, 6, 5, 4, 3, 2, 1, 0])"
            ]
          },
          "metadata": {},
          "execution_count": 106
        }
      ]
    },
    {
      "cell_type": "markdown",
      "source": [
        "6. Create a 3x3 matrix with values ranging from 0 to 8."
      ],
      "metadata": {
        "id": "mtWc-wU2GwEW"
      }
    },
    {
      "cell_type": "code",
      "source": [
        "np.arange(9).reshape(3,3)"
      ],
      "metadata": {
        "colab": {
          "base_uri": "https://localhost:8080/"
        },
        "id": "GNBmGhV0BPBY",
        "outputId": "78e539e9-9771-488b-ca3e-87c02236cfc0"
      },
      "execution_count": null,
      "outputs": [
        {
          "output_type": "execute_result",
          "data": {
            "text/plain": [
              "array([[0, 1, 2],\n",
              "       [3, 4, 5],\n",
              "       [6, 7, 8]])"
            ]
          },
          "metadata": {},
          "execution_count": 107
        }
      ]
    },
    {
      "cell_type": "markdown",
      "source": [
        "7. Find indices of non-zero elements from [1,2,0,0,4,0]."
      ],
      "metadata": {
        "id": "XN0rflQ8IOL8"
      }
    },
    {
      "cell_type": "code",
      "source": [
        "np.nonzero([1,2,0,0,4,0])"
      ],
      "metadata": {
        "colab": {
          "base_uri": "https://localhost:8080/"
        },
        "id": "HvHLj8IKIIWy",
        "outputId": "bce33d4f-1066-4490-e69a-131eca351f90"
      },
      "execution_count": null,
      "outputs": [
        {
          "output_type": "execute_result",
          "data": {
            "text/plain": [
              "(array([0, 1, 4]),)"
            ]
          },
          "metadata": {},
          "execution_count": 115
        }
      ]
    },
    {
      "cell_type": "markdown",
      "source": [
        "8. Create a 3x3 identity matrix"
      ],
      "metadata": {
        "id": "rOi7B0daKs5d"
      }
    },
    {
      "cell_type": "code",
      "source": [
        "np.eye(3,2)"
      ],
      "metadata": {
        "colab": {
          "base_uri": "https://localhost:8080/"
        },
        "id": "TZBvAy4FJaBX",
        "outputId": "71e93622-0815-4e8b-b7b2-9e4c2f20e207"
      },
      "execution_count": null,
      "outputs": [
        {
          "output_type": "execute_result",
          "data": {
            "text/plain": [
              "array([[1., 0.],\n",
              "       [0., 1.],\n",
              "       [0., 0.]])"
            ]
          },
          "metadata": {},
          "execution_count": 119
        }
      ]
    },
    {
      "cell_type": "code",
      "source": [
        "np.eye(3,3)"
      ],
      "metadata": {
        "colab": {
          "base_uri": "https://localhost:8080/"
        },
        "id": "Y4bI8_V5MlzL",
        "outputId": "fb8bb5d4-24a5-4255-ce6a-482d5de8fec4"
      },
      "execution_count": null,
      "outputs": [
        {
          "output_type": "execute_result",
          "data": {
            "text/plain": [
              "array([[1., 0., 0.],\n",
              "       [0., 1., 0.],\n",
              "       [0., 0., 1.]])"
            ]
          },
          "metadata": {},
          "execution_count": 120
        }
      ]
    },
    {
      "cell_type": "code",
      "source": [
        "np.eye(2,3)"
      ],
      "metadata": {
        "colab": {
          "base_uri": "https://localhost:8080/"
        },
        "id": "wG4EP96VM0em",
        "outputId": "1bcf99c6-12be-48e6-9df1-3052b01c0f08"
      },
      "execution_count": null,
      "outputs": [
        {
          "output_type": "execute_result",
          "data": {
            "text/plain": [
              "array([[1., 0., 0.],\n",
              "       [0., 1., 0.]])"
            ]
          },
          "metadata": {},
          "execution_count": 121
        }
      ]
    },
    {
      "cell_type": "markdown",
      "source": [
        "9. Create a 3x3x3 array with random values."
      ],
      "metadata": {
        "id": "88NGRZc7M6qZ"
      }
    },
    {
      "cell_type": "code",
      "source": [
        "np.random.random((3,3,3))"
      ],
      "metadata": {
        "colab": {
          "base_uri": "https://localhost:8080/"
        },
        "id": "R0rbzOyYM2fa",
        "outputId": "143843ec-06f4-4058-e14c-b5921865464f"
      },
      "execution_count": null,
      "outputs": [
        {
          "output_type": "execute_result",
          "data": {
            "text/plain": [
              "array([[[0.07671683, 0.18088219, 0.60989242],\n",
              "        [0.63621408, 0.2363997 , 0.18020315],\n",
              "        [0.13225822, 0.97141367, 0.87631841]],\n",
              "\n",
              "       [[0.40013049, 0.18689307, 0.72004113],\n",
              "        [0.38239193, 0.88517978, 0.78996767],\n",
              "        [0.38400972, 0.36458882, 0.33038183]],\n",
              "\n",
              "       [[0.69299587, 0.92694408, 0.11513327],\n",
              "        [0.9258825 , 0.06514477, 0.08206842],\n",
              "        [0.84175552, 0.69102569, 0.73308562]]])"
            ]
          },
          "metadata": {},
          "execution_count": 122
        }
      ]
    },
    {
      "cell_type": "markdown",
      "source": [
        "10. Create a 10x10 array with random values and find the minimum and maximum values."
      ],
      "metadata": {
        "id": "Ge8egrplNGCV"
      }
    },
    {
      "cell_type": "code",
      "source": [
        "arr = np.random.random((10,10))"
      ],
      "metadata": {
        "id": "D1V5z0lDNCan"
      },
      "execution_count": null,
      "outputs": []
    },
    {
      "cell_type": "code",
      "source": [
        "arr"
      ],
      "metadata": {
        "colab": {
          "base_uri": "https://localhost:8080/"
        },
        "id": "CR-ZZvpVN50J",
        "outputId": "40c5a13b-4a94-4890-c2dc-c0b45067ce6d"
      },
      "execution_count": null,
      "outputs": [
        {
          "output_type": "execute_result",
          "data": {
            "text/plain": [
              "array([[0.4406473 , 0.45386648, 0.36061788, 0.28098385, 0.7564729 ,\n",
              "        0.77397362, 0.18607731, 0.71025522, 0.03192065, 0.17595799],\n",
              "       [0.29950471, 0.01189598, 0.82343998, 0.29215962, 0.69053234,\n",
              "        0.56275659, 0.28370962, 0.95307935, 0.48217689, 0.35952762],\n",
              "       [0.61170969, 0.67606863, 0.79586105, 0.83441553, 0.42950982,\n",
              "        0.12315551, 0.76111261, 0.51580848, 0.55692986, 0.47152309],\n",
              "       [0.20198708, 0.82454541, 0.66485029, 0.91589541, 0.08410262,\n",
              "        0.00367401, 0.81587155, 0.3997792 , 0.81085886, 0.56184624],\n",
              "       [0.90053056, 0.99658989, 0.05615752, 0.03565059, 0.12885976,\n",
              "        0.41914753, 0.41096177, 0.62707468, 0.79888629, 0.36912685],\n",
              "       [0.59552461, 0.27714393, 0.41345831, 0.73112756, 0.75866046,\n",
              "        0.34706262, 0.61852643, 0.64645203, 0.13244539, 0.47685386],\n",
              "       [0.3612673 , 0.57065169, 0.12934248, 0.58674013, 0.30685283,\n",
              "        0.0310918 , 0.71056537, 0.12447853, 0.66013834, 0.25161654],\n",
              "       [0.18460711, 0.60408152, 0.30187648, 0.37158106, 0.83823364,\n",
              "        0.15673389, 0.78012404, 0.8752438 , 0.57790641, 0.65894128],\n",
              "       [0.81531726, 0.6873139 , 0.45057055, 0.01801351, 0.25347484,\n",
              "        0.33420355, 0.35090486, 0.62484426, 0.97884918, 0.14568503],\n",
              "       [0.64050848, 0.87485714, 0.9205888 , 0.03977356, 0.86831695,\n",
              "        0.37148305, 0.6983759 , 0.88911788, 0.05274393, 0.32376838]])"
            ]
          },
          "metadata": {},
          "execution_count": 124
        }
      ]
    },
    {
      "cell_type": "code",
      "source": [
        "arr.max()"
      ],
      "metadata": {
        "colab": {
          "base_uri": "https://localhost:8080/"
        },
        "id": "XlY8qIKjN6ST",
        "outputId": "d7113605-e03e-48a5-c72f-f0180d4e479a"
      },
      "execution_count": null,
      "outputs": [
        {
          "output_type": "execute_result",
          "data": {
            "text/plain": [
              "np.float64(0.9965898901386149)"
            ]
          },
          "metadata": {},
          "execution_count": 126
        }
      ]
    },
    {
      "cell_type": "code",
      "source": [
        "arr.min()"
      ],
      "metadata": {
        "colab": {
          "base_uri": "https://localhost:8080/"
        },
        "id": "7jObdMDeN8BQ",
        "outputId": "607cceb7-b9cf-4d5a-a0cf-c5502b3b887e"
      },
      "execution_count": null,
      "outputs": [
        {
          "output_type": "execute_result",
          "data": {
            "text/plain": [
              "np.float64(0.0036740055663946336)"
            ]
          },
          "metadata": {},
          "execution_count": 127
        }
      ]
    },
    {
      "cell_type": "markdown",
      "source": [
        "11. Create a random vector of size 30 and find the mean value."
      ],
      "metadata": {
        "id": "CdJHeaXiOEh9"
      }
    },
    {
      "cell_type": "code",
      "source": [
        "vec = np.random.random(30)"
      ],
      "metadata": {
        "id": "bBc9uS5ON-83"
      },
      "execution_count": null,
      "outputs": []
    },
    {
      "cell_type": "code",
      "source": [
        "vec"
      ],
      "metadata": {
        "colab": {
          "base_uri": "https://localhost:8080/"
        },
        "id": "uInArnFdOQef",
        "outputId": "4c598847-2d51-45af-b897-71acaea3dc4d"
      },
      "execution_count": null,
      "outputs": [
        {
          "output_type": "execute_result",
          "data": {
            "text/plain": [
              "array([0.0222878 , 0.17525417, 0.65588307, 0.4832006 , 0.0808181 ,\n",
              "       0.97723345, 0.89969066, 0.77151486, 0.41646226, 0.9980114 ,\n",
              "       0.3093511 , 0.67191357, 0.64920461, 0.20776265, 0.09181144,\n",
              "       0.58737684, 0.93192853, 0.05206424, 0.45887458, 0.57925682,\n",
              "       0.24246736, 0.49601539, 0.7656158 , 0.37127755, 0.61864353,\n",
              "       0.26683654, 0.17031396, 0.15774019, 0.72713313, 0.26106736])"
            ]
          },
          "metadata": {},
          "execution_count": 130
        }
      ]
    },
    {
      "cell_type": "code",
      "source": [
        "vec.mean()"
      ],
      "metadata": {
        "colab": {
          "base_uri": "https://localhost:8080/"
        },
        "id": "YmZ8Mri4OQ20",
        "outputId": "3384f85b-d32a-4cd3-a26a-332419bfb2f5"
      },
      "execution_count": null,
      "outputs": [
        {
          "output_type": "execute_result",
          "data": {
            "text/plain": [
              "np.float64(0.4699003854402902)"
            ]
          },
          "metadata": {},
          "execution_count": 131
        }
      ]
    },
    {
      "cell_type": "code",
      "source": [
        "np.mean(vec)"
      ],
      "metadata": {
        "colab": {
          "base_uri": "https://localhost:8080/"
        },
        "id": "Q0dxDoJ0OTD9",
        "outputId": "89b3c1ad-8f8c-465b-be66-3806545ac929"
      },
      "execution_count": null,
      "outputs": [
        {
          "output_type": "execute_result",
          "data": {
            "text/plain": [
              "np.float64(0.4699003854402902)"
            ]
          },
          "metadata": {},
          "execution_count": 133
        }
      ]
    },
    {
      "cell_type": "markdown",
      "source": [
        "12. Create a 2d array with 1 on the border and 0 inside."
      ],
      "metadata": {
        "id": "9mUKVA6ROaIo"
      }
    },
    {
      "cell_type": "code",
      "source": [
        "arr = np.ones((4,4))"
      ],
      "metadata": {
        "id": "C8W3y49HOUWE"
      },
      "execution_count": null,
      "outputs": []
    },
    {
      "cell_type": "code",
      "source": [
        "arr"
      ],
      "metadata": {
        "colab": {
          "base_uri": "https://localhost:8080/"
        },
        "id": "Kx9PKcoGaBy_",
        "outputId": "6e99ba31-d6e3-4742-939d-81748d257afb"
      },
      "execution_count": null,
      "outputs": [
        {
          "output_type": "execute_result",
          "data": {
            "text/plain": [
              "array([[1., 1., 1., 1.],\n",
              "       [1., 1., 1., 1.],\n",
              "       [1., 1., 1., 1.],\n",
              "       [1., 1., 1., 1.]])"
            ]
          },
          "metadata": {},
          "execution_count": 162
        }
      ]
    },
    {
      "cell_type": "code",
      "source": [
        "arr[1:-1,1:-1] = 0"
      ],
      "metadata": {
        "id": "3i-RrssraCL7"
      },
      "execution_count": null,
      "outputs": []
    },
    {
      "cell_type": "code",
      "source": [
        "arr"
      ],
      "metadata": {
        "colab": {
          "base_uri": "https://localhost:8080/"
        },
        "id": "Y1Lr65s0as49",
        "outputId": "8c5d0761-5267-46a3-a87e-af55433a7c05"
      },
      "execution_count": null,
      "outputs": [
        {
          "output_type": "execute_result",
          "data": {
            "text/plain": [
              "array([[1., 1., 1., 1.],\n",
              "       [1., 0., 0., 1.],\n",
              "       [1., 0., 0., 1.],\n",
              "       [1., 1., 1., 1.]])"
            ]
          },
          "metadata": {},
          "execution_count": 164
        }
      ]
    },
    {
      "cell_type": "markdown",
      "source": [
        "13.  How to add a border (filled with 0's) around an existing array?"
      ],
      "metadata": {
        "id": "2mGEAwDdbwae"
      }
    },
    {
      "cell_type": "code",
      "source": [
        "arr = np.ones((5,5))"
      ],
      "metadata": {
        "id": "w8KEJDPfbBb5"
      },
      "execution_count": null,
      "outputs": []
    },
    {
      "cell_type": "code",
      "source": [
        "np.pad(arr,pad_width = 1, mode='constant',constant_values=0)"
      ],
      "metadata": {
        "colab": {
          "base_uri": "https://localhost:8080/"
        },
        "id": "KkKAW4rykq0q",
        "outputId": "502b4cdd-69b6-4756-c349-001126453def"
      },
      "execution_count": null,
      "outputs": [
        {
          "output_type": "execute_result",
          "data": {
            "text/plain": [
              "array([[0., 0., 0., 0., 0., 0., 0.],\n",
              "       [0., 1., 1., 1., 1., 1., 0.],\n",
              "       [0., 1., 1., 1., 1., 1., 0.],\n",
              "       [0., 1., 1., 1., 1., 1., 0.],\n",
              "       [0., 1., 1., 1., 1., 1., 0.],\n",
              "       [0., 1., 1., 1., 1., 1., 0.],\n",
              "       [0., 0., 0., 0., 0., 0., 0.]])"
            ]
          },
          "metadata": {},
          "execution_count": 22
        }
      ]
    },
    {
      "cell_type": "markdown",
      "source": [
        "14. What is the result of the following expression?"
      ],
      "metadata": {
        "id": "J6QEkPhhmycM"
      }
    },
    {
      "cell_type": "code",
      "source": [
        "print(0 * np.nan)\n",
        "print(np.nan == np.nan)\n",
        "print(np.inf > np.nan)\n",
        "print(np.nan - np.nan)\n",
        "print(np.nan in set([np.nan]))\n",
        "print(0.3 == 3 * 0.1)"
      ],
      "metadata": {
        "colab": {
          "base_uri": "https://localhost:8080/"
        },
        "id": "LffBlYmVmuku",
        "outputId": "464bfb11-d7e3-43e5-923b-d544b7696c57"
      },
      "execution_count": null,
      "outputs": [
        {
          "output_type": "stream",
          "name": "stdout",
          "text": [
            "nan\n",
            "False\n",
            "False\n",
            "nan\n",
            "True\n",
            "False\n"
          ]
        }
      ]
    },
    {
      "cell_type": "markdown",
      "source": [
        "15. Create a 5x5 matrix with values 1,2,3,4 just below the diagonal."
      ],
      "metadata": {
        "id": "66TY72y9oEjm"
      }
    },
    {
      "cell_type": "code",
      "source": [
        "np.diag(1+np.arange(4),k=-1)"
      ],
      "metadata": {
        "colab": {
          "base_uri": "https://localhost:8080/"
        },
        "id": "8W0yaRgQncIf",
        "outputId": "97871a14-ff75-437c-84b7-7e5d13fefc82"
      },
      "execution_count": null,
      "outputs": [
        {
          "output_type": "execute_result",
          "data": {
            "text/plain": [
              "array([[0, 0, 0, 0, 0],\n",
              "       [1, 0, 0, 0, 0],\n",
              "       [0, 2, 0, 0, 0],\n",
              "       [0, 0, 3, 0, 0],\n",
              "       [0, 0, 0, 4, 0]])"
            ]
          },
          "metadata": {},
          "execution_count": 31
        }
      ]
    },
    {
      "cell_type": "markdown",
      "source": [
        "16.Create a 8x8 matrix and fill it with a checkerboard pattern."
      ],
      "metadata": {
        "id": "vNG1vU_SpWNt"
      }
    },
    {
      "cell_type": "code",
      "source": [
        "arr = np.zeros((8,8))"
      ],
      "metadata": {
        "id": "63Kj48hto4fE"
      },
      "execution_count": null,
      "outputs": []
    },
    {
      "cell_type": "code",
      "source": [
        "arr[::2,::2] = 1"
      ],
      "metadata": {
        "id": "g9NSGf_hqA04"
      },
      "execution_count": null,
      "outputs": []
    },
    {
      "cell_type": "code",
      "source": [
        "arr[1::2,1::2] = 1"
      ],
      "metadata": {
        "id": "6vm_lPRIqCLo"
      },
      "execution_count": null,
      "outputs": []
    },
    {
      "cell_type": "code",
      "source": [
        "arr"
      ],
      "metadata": {
        "colab": {
          "base_uri": "https://localhost:8080/"
        },
        "id": "_NP_v5AhqKaw",
        "outputId": "1576cf6d-4fe2-47ef-c1e2-3bc03c54da15"
      },
      "execution_count": null,
      "outputs": [
        {
          "output_type": "execute_result",
          "data": {
            "text/plain": [
              "array([[1., 0., 1., 0., 1., 0., 1., 0.],\n",
              "       [0., 1., 0., 1., 0., 1., 0., 1.],\n",
              "       [1., 0., 1., 0., 1., 0., 1., 0.],\n",
              "       [0., 1., 0., 1., 0., 1., 0., 1.],\n",
              "       [1., 0., 1., 0., 1., 0., 1., 0.],\n",
              "       [0., 1., 0., 1., 0., 1., 0., 1.],\n",
              "       [1., 0., 1., 0., 1., 0., 1., 0.],\n",
              "       [0., 1., 0., 1., 0., 1., 0., 1.]])"
            ]
          },
          "metadata": {},
          "execution_count": 88
        }
      ]
    },
    {
      "cell_type": "markdown",
      "source": [
        "17. Consider a (6,7,8) shape array, what is the index (x,y,z) of the 100th element?"
      ],
      "metadata": {
        "id": "DZhOWIjdsZu6"
      }
    },
    {
      "cell_type": "code",
      "source": [
        "print(np.unravel_index(100,(6,7,8)))"
      ],
      "metadata": {
        "colab": {
          "base_uri": "https://localhost:8080/"
        },
        "id": "IbuH83tasNGX",
        "outputId": "d2c0e6bc-910d-4944-98cf-2f1c73d25a81"
      },
      "execution_count": null,
      "outputs": [
        {
          "output_type": "stream",
          "name": "stdout",
          "text": [
            "(np.int64(1), np.int64(5), np.int64(4))\n"
          ]
        }
      ]
    },
    {
      "cell_type": "markdown",
      "source": [
        "18. Create a checkerboard 8x8 matrix using the tile function."
      ],
      "metadata": {
        "id": "urGptrlhuvWu"
      }
    },
    {
      "cell_type": "code",
      "source": [
        "np.tile([[1,0],[0,1]],(4,4))"
      ],
      "metadata": {
        "colab": {
          "base_uri": "https://localhost:8080/"
        },
        "id": "x5sm9C7lsoZN",
        "outputId": "3b11c236-a0bd-4ab6-97e4-4cee90b11563"
      },
      "execution_count": null,
      "outputs": [
        {
          "output_type": "execute_result",
          "data": {
            "text/plain": [
              "array([[1, 0, 1, 0, 1, 0, 1, 0],\n",
              "       [0, 1, 0, 1, 0, 1, 0, 1],\n",
              "       [1, 0, 1, 0, 1, 0, 1, 0],\n",
              "       [0, 1, 0, 1, 0, 1, 0, 1],\n",
              "       [1, 0, 1, 0, 1, 0, 1, 0],\n",
              "       [0, 1, 0, 1, 0, 1, 0, 1],\n",
              "       [1, 0, 1, 0, 1, 0, 1, 0],\n",
              "       [0, 1, 0, 1, 0, 1, 0, 1]])"
            ]
          },
          "metadata": {},
          "execution_count": 94
        }
      ]
    },
    {
      "cell_type": "markdown",
      "source": [
        "19. Normalize a 5x5 random matrix."
      ],
      "metadata": {
        "id": "YHnw3mtEvoLA"
      }
    },
    {
      "cell_type": "code",
      "source": [
        "arr = np.random.random((5,5))"
      ],
      "metadata": {
        "id": "c4S8cYJQvZvA"
      },
      "execution_count": null,
      "outputs": []
    },
    {
      "cell_type": "code",
      "source": [
        "arr = (arr - arr.mean())/np.std(arr)"
      ],
      "metadata": {
        "id": "ntPSrRzTwEjr"
      },
      "execution_count": null,
      "outputs": []
    },
    {
      "cell_type": "code",
      "source": [
        "arr"
      ],
      "metadata": {
        "colab": {
          "base_uri": "https://localhost:8080/"
        },
        "id": "YcNCyDQHwOWz",
        "outputId": "5ead8aa1-5ac7-478e-f3ae-e66fc5d2b996"
      },
      "execution_count": null,
      "outputs": [
        {
          "output_type": "execute_result",
          "data": {
            "text/plain": [
              "array([[ 1.35188439, -0.90583948, -1.3402433 ,  0.40047906,  0.78138043],\n",
              "       [ 0.82345732, -0.54906029, -0.51199634,  0.31595871,  0.9382088 ],\n",
              "       [ 1.00473118,  0.98834895, -0.69785647,  0.5142281 , -1.4081609 ],\n",
              "       [ 0.23789086, -2.03785521, -0.77954041, -1.78961166,  0.66429641],\n",
              "       [ 1.38383122,  0.74522233,  1.05715725, -0.80418461, -0.38272633]])"
            ]
          },
          "metadata": {},
          "execution_count": 101
        }
      ]
    },
    {
      "cell_type": "code",
      "source": [
        "arr.std()"
      ],
      "metadata": {
        "colab": {
          "base_uri": "https://localhost:8080/"
        },
        "id": "GbJQP9hPwXR6",
        "outputId": "f0effc41-0714-41fa-83cd-5931fa6a0100"
      },
      "execution_count": null,
      "outputs": [
        {
          "output_type": "execute_result",
          "data": {
            "text/plain": [
              "np.float64(1.0)"
            ]
          },
          "metadata": {},
          "execution_count": 102
        }
      ]
    },
    {
      "cell_type": "markdown",
      "source": [
        "20.  Multiply a 5x3 matrix by a 3x2 matrix (real matrix product)."
      ],
      "metadata": {
        "id": "yviLj470wpnc"
      }
    },
    {
      "cell_type": "code",
      "source": [
        "A = np.arange(15).reshape((5,3))"
      ],
      "metadata": {
        "id": "KNlDlJZ0wdcN"
      },
      "execution_count": null,
      "outputs": []
    },
    {
      "cell_type": "code",
      "source": [
        "B = np.arange(6).reshape(3,2)"
      ],
      "metadata": {
        "id": "0HN4GW_pwx4o"
      },
      "execution_count": null,
      "outputs": []
    },
    {
      "cell_type": "code",
      "source": [
        "np.dot(A,B)"
      ],
      "metadata": {
        "colab": {
          "base_uri": "https://localhost:8080/"
        },
        "id": "-8UApkn4w8jF",
        "outputId": "1b3c6d23-62ee-4f5d-b29d-92621d4a8cda"
      },
      "execution_count": null,
      "outputs": [
        {
          "output_type": "execute_result",
          "data": {
            "text/plain": [
              "array([[ 10,  13],\n",
              "       [ 28,  40],\n",
              "       [ 46,  67],\n",
              "       [ 64,  94],\n",
              "       [ 82, 121]])"
            ]
          },
          "metadata": {},
          "execution_count": 108
        }
      ]
    },
    {
      "cell_type": "code",
      "source": [
        "A * A"
      ],
      "metadata": {
        "colab": {
          "base_uri": "https://localhost:8080/"
        },
        "id": "LJp0XMUow9n-",
        "outputId": "b4c73253-7946-4db3-ce0f-338250d67be7"
      },
      "execution_count": null,
      "outputs": [
        {
          "output_type": "execute_result",
          "data": {
            "text/plain": [
              "array([[  0,   1,   4],\n",
              "       [  9,  16,  25],\n",
              "       [ 36,  49,  64],\n",
              "       [ 81, 100, 121],\n",
              "       [144, 169, 196]])"
            ]
          },
          "metadata": {},
          "execution_count": 109
        }
      ]
    },
    {
      "cell_type": "markdown",
      "source": [
        "21. Given a 1D array, negate all elements which are between 3 and 8, in place."
      ],
      "metadata": {
        "id": "MJkez38FxNBm"
      }
    },
    {
      "cell_type": "code",
      "source": [
        "arr = np.arange(10)"
      ],
      "metadata": {
        "id": "6QPcNhA8xI6P"
      },
      "execution_count": null,
      "outputs": []
    },
    {
      "cell_type": "code",
      "source": [
        "arr"
      ],
      "metadata": {
        "colab": {
          "base_uri": "https://localhost:8080/"
        },
        "id": "bNu3FFWsxU5U",
        "outputId": "0dd42268-0df1-4e28-afba-01a4e63b55ad"
      },
      "execution_count": null,
      "outputs": [
        {
          "output_type": "execute_result",
          "data": {
            "text/plain": [
              "array([0, 1, 2, 3, 4, 5, 6, 7, 8, 9])"
            ]
          },
          "metadata": {},
          "execution_count": 130
        }
      ]
    },
    {
      "cell_type": "code",
      "source": [
        "arr[(arr>3) & (arr <8)] *= -1"
      ],
      "metadata": {
        "id": "FLLJw1JqxVPI"
      },
      "execution_count": null,
      "outputs": []
    },
    {
      "cell_type": "code",
      "source": [
        "arr"
      ],
      "metadata": {
        "colab": {
          "base_uri": "https://localhost:8080/"
        },
        "id": "KwvRxLAoxhwv",
        "outputId": "bbd65af5-b3c8-42ec-f08e-41012e6211f4"
      },
      "execution_count": null,
      "outputs": [
        {
          "output_type": "execute_result",
          "data": {
            "text/plain": [
              "array([ 0,  1,  2,  3, -4, -5, -6, -7,  8,  9])"
            ]
          },
          "metadata": {},
          "execution_count": 134
        }
      ]
    },
    {
      "cell_type": "markdown",
      "source": [
        "22. What is the output of the following script?"
      ],
      "metadata": {
        "id": "IMaCKYQr0BdH"
      }
    },
    {
      "cell_type": "code",
      "source": [
        "\n",
        "print(sum(range(5)))"
      ],
      "metadata": {
        "colab": {
          "base_uri": "https://localhost:8080/"
        },
        "id": "FQCzwIK-xiOp",
        "outputId": "6f75645f-44a3-423f-98ec-96ea84dd02d3"
      },
      "execution_count": 150,
      "outputs": [
        {
          "output_type": "stream",
          "name": "stdout",
          "text": [
            "10\n"
          ]
        }
      ]
    },
    {
      "cell_type": "code",
      "source": [
        "sum(range(5),-1)"
      ],
      "metadata": {
        "colab": {
          "base_uri": "https://localhost:8080/"
        },
        "id": "V5RBMinG0GqE",
        "outputId": "9f6820bd-4425-4572-c36c-bf1aba87d341"
      },
      "execution_count": null,
      "outputs": [
        {
          "output_type": "execute_result",
          "data": {
            "text/plain": [
              "np.int64(10)"
            ]
          },
          "metadata": {},
          "execution_count": 147
        }
      ]
    },
    {
      "cell_type": "markdown",
      "source": [
        "23. Consider an integer vector Z, which of these expressions are legal?\n",
        "\n",
        "* Z**Z\n",
        "* 2 << Z >> 2\n",
        "* Z <- Z\n",
        "* 1j*Z\n",
        "* Z/1/1\n",
        "* Z < Z > Z"
      ],
      "metadata": {
        "id": "a8sdt5nA2uVl"
      }
    },
    {
      "cell_type": "code",
      "source": [
        "Z =  np.arange(5)"
      ],
      "metadata": {
        "id": "oOLMVGJo0H_c"
      },
      "execution_count": 171,
      "outputs": []
    },
    {
      "cell_type": "markdown",
      "source": [
        "![image.png](data:image/png;base64,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)"
      ],
      "metadata": {
        "id": "F9iKrhbx43la"
      }
    },
    {
      "cell_type": "code",
      "source": [
        "Z**Z"
      ],
      "metadata": {
        "colab": {
          "base_uri": "https://localhost:8080/",
          "height": 146
        },
        "id": "HJubg4Zt3CTQ",
        "outputId": "7ca788e2-725b-468f-aa4d-79bfebe34bb7"
      },
      "execution_count": 156,
      "outputs": [
        {
          "output_type": "error",
          "ename": "ValueError",
          "evalue": "Integers to negative integer powers are not allowed.",
          "traceback": [
            "\u001b[0;31m---------------------------------------------------------------------------\u001b[0m",
            "\u001b[0;31mValueError\u001b[0m                                Traceback (most recent call last)",
            "\u001b[0;32m<ipython-input-156-8f6ea73f5220>\u001b[0m in \u001b[0;36m<cell line: 0>\u001b[0;34m()\u001b[0m\n\u001b[0;32m----> 1\u001b[0;31m \u001b[0mZ\u001b[0m\u001b[0;34m**\u001b[0m\u001b[0mZ\u001b[0m\u001b[0;34m\u001b[0m\u001b[0;34m\u001b[0m\u001b[0m\n\u001b[0m",
            "\u001b[0;31mValueError\u001b[0m: Integers to negative integer powers are not allowed."
          ]
        }
      ]
    },
    {
      "cell_type": "code",
      "source": [
        "2 << Z"
      ],
      "metadata": {
        "colab": {
          "base_uri": "https://localhost:8080/"
        },
        "id": "jPKDLP803DJp",
        "outputId": "41c4884b-6a2e-400b-be92-d6be6003cc0d"
      },
      "execution_count": 175,
      "outputs": [
        {
          "output_type": "execute_result",
          "data": {
            "text/plain": [
              "array([ 2,  4,  8, 16, 32])"
            ]
          },
          "metadata": {},
          "execution_count": 175
        }
      ]
    },
    {
      "cell_type": "code",
      "source": [
        "Z >>2"
      ],
      "metadata": {
        "colab": {
          "base_uri": "https://localhost:8080/"
        },
        "id": "X7fPnIz83M9X",
        "outputId": "536ba911-609f-4705-9115-d760dde916db"
      },
      "execution_count": 176,
      "outputs": [
        {
          "output_type": "execute_result",
          "data": {
            "text/plain": [
              "array([0, 0, 0, 0, 1])"
            ]
          },
          "metadata": {},
          "execution_count": 176
        }
      ]
    },
    {
      "cell_type": "code",
      "source": [
        "Z >- Z"
      ],
      "metadata": {
        "colab": {
          "base_uri": "https://localhost:8080/"
        },
        "id": "_iLqPgm-4ctl",
        "outputId": "dd690afd-1333-4a17-b1e6-e7a8c6b8d1bf"
      },
      "execution_count": 179,
      "outputs": [
        {
          "output_type": "execute_result",
          "data": {
            "text/plain": [
              "array([False,  True,  True,  True,  True])"
            ]
          },
          "metadata": {},
          "execution_count": 179
        }
      ]
    },
    {
      "cell_type": "code",
      "source": [
        "Z<Z"
      ],
      "metadata": {
        "colab": {
          "base_uri": "https://localhost:8080/"
        },
        "id": "XIWAC6ZO4-EI",
        "outputId": "bbc978d3-66c9-434e-9a3a-87729301ad44"
      },
      "execution_count": 181,
      "outputs": [
        {
          "output_type": "execute_result",
          "data": {
            "text/plain": [
              "array([False, False, False, False, False])"
            ]
          },
          "metadata": {},
          "execution_count": 181
        }
      ]
    },
    {
      "cell_type": "code",
      "source": [
        "Z/1"
      ],
      "metadata": {
        "colab": {
          "base_uri": "https://localhost:8080/"
        },
        "id": "B6sHqBav5K0m",
        "outputId": "94868326-25dc-4ea0-b70c-93f96bfd7131"
      },
      "execution_count": 182,
      "outputs": [
        {
          "output_type": "execute_result",
          "data": {
            "text/plain": [
              "array([0., 1., 2., 3., 4.])"
            ]
          },
          "metadata": {},
          "execution_count": 182
        }
      ]
    },
    {
      "cell_type": "code",
      "source": [
        "Z/2/2"
      ],
      "metadata": {
        "colab": {
          "base_uri": "https://localhost:8080/"
        },
        "id": "P8yGwUBV5Qlw",
        "outputId": "6a3356f9-258a-4791-b940-dbbdb75ea93f"
      },
      "execution_count": 185,
      "outputs": [
        {
          "output_type": "execute_result",
          "data": {
            "text/plain": [
              "array([0.  , 0.25, 0.5 , 0.75, 1.  ])"
            ]
          },
          "metadata": {},
          "execution_count": 185
        }
      ]
    },
    {
      "cell_type": "markdown",
      "source": [
        "24. What are the result of the following expressions?\n",
        "* print(np.array(0) / np.array(0))\n",
        "* print(np.array(0) // np.array(0))\n",
        "* print(np.array([np.nan]).astype(int).astype(float))"
      ],
      "metadata": {
        "id": "EFIHtiQ26Bka"
      }
    },
    {
      "cell_type": "code",
      "source": [
        "print(np.array(0) / np.array(0))"
      ],
      "metadata": {
        "colab": {
          "base_uri": "https://localhost:8080/"
        },
        "id": "DfbWtzIV5R45",
        "outputId": "7afa8f2a-2a0d-4fb6-cbbf-8c4e094c70ae"
      },
      "execution_count": 191,
      "outputs": [
        {
          "output_type": "stream",
          "name": "stdout",
          "text": [
            "nan\n"
          ]
        },
        {
          "output_type": "stream",
          "name": "stderr",
          "text": [
            "<ipython-input-191-a69a51a14444>:1: RuntimeWarning: invalid value encountered in divide\n",
            "  print(np.array(0) / np.array(0))\n"
          ]
        }
      ]
    },
    {
      "cell_type": "code",
      "source": [
        "print(np.array(0) // np.array(0))"
      ],
      "metadata": {
        "colab": {
          "base_uri": "https://localhost:8080/"
        },
        "id": "yqluQx8o6oK1",
        "outputId": "38d68f21-6e6d-4ced-fc61-0c5d542e9295"
      },
      "execution_count": 192,
      "outputs": [
        {
          "output_type": "stream",
          "name": "stdout",
          "text": [
            "0\n"
          ]
        },
        {
          "output_type": "stream",
          "name": "stderr",
          "text": [
            "<ipython-input-192-e29d1dbbd607>:1: RuntimeWarning: divide by zero encountered in floor_divide\n",
            "  print(np.array(0) // np.array(0))\n"
          ]
        }
      ]
    },
    {
      "cell_type": "code",
      "source": [
        "print(np.array([np.nan]).astype(int).astype(float))"
      ],
      "metadata": {
        "colab": {
          "base_uri": "https://localhost:8080/"
        },
        "id": "YDkAUpid6Ps3",
        "outputId": "b2251ef1-84c7-4561-c7cb-2bd1fde463ac"
      },
      "execution_count": 190,
      "outputs": [
        {
          "output_type": "stream",
          "name": "stdout",
          "text": [
            "[-9.22337204e+18]\n"
          ]
        },
        {
          "output_type": "stream",
          "name": "stderr",
          "text": [
            "<ipython-input-190-8ac629ca88a6>:1: RuntimeWarning: invalid value encountered in cast\n",
            "  print(np.array([np.nan]).astype(int).astype(float))\n"
          ]
        }
      ]
    },
    {
      "cell_type": "markdown",
      "source": [
        "25. How to round away from zero a float array?"
      ],
      "metadata": {
        "id": "hikqbDaW7Jnw"
      }
    },
    {
      "cell_type": "code",
      "source": [
        "Z = np.random.uniform(-10,+10,10)\n",
        "np.copysign(np.ceil(np.abs(Z)),Z)"
      ],
      "metadata": {
        "colab": {
          "base_uri": "https://localhost:8080/"
        },
        "id": "rzq08exI6h-3",
        "outputId": "68672e29-c510-437f-9504-311059f1f226"
      },
      "execution_count": 201,
      "outputs": [
        {
          "output_type": "execute_result",
          "data": {
            "text/plain": [
              "array([ 7.,  2., -7., 10.,  7.,  7.,  9., -6.,  3., 10.])"
            ]
          },
          "metadata": {},
          "execution_count": 201
        }
      ]
    },
    {
      "cell_type": "code",
      "source": [
        "Z = np.array([1.2,-3.2])\n",
        "np.copysign(np.ceil(np.abs(Z)),Z)"
      ],
      "metadata": {
        "colab": {
          "base_uri": "https://localhost:8080/"
        },
        "id": "C5st1yBG7oCH",
        "outputId": "5cf412ac-7220-472c-ee13-e423f27b5835"
      },
      "execution_count": 202,
      "outputs": [
        {
          "output_type": "execute_result",
          "data": {
            "text/plain": [
              "array([ 2., -4.])"
            ]
          },
          "metadata": {},
          "execution_count": 202
        }
      ]
    },
    {
      "cell_type": "markdown",
      "source": [
        "26. How to find common values between two arrays?"
      ],
      "metadata": {
        "id": "YNHI0Vq09WDx"
      }
    },
    {
      "cell_type": "code",
      "source": [
        "Z1 = np.random.randint(0,10,10)\n",
        "Z2 = np.random.randint(0,10,10)\n",
        "print(np.intersect1d(Z1,Z2))"
      ],
      "metadata": {
        "colab": {
          "base_uri": "https://localhost:8080/"
        },
        "id": "cJkBtKgd80FR",
        "outputId": "1553dbcf-5dd5-4364-ee0c-cc498f02ae03"
      },
      "execution_count": 207,
      "outputs": [
        {
          "output_type": "stream",
          "name": "stdout",
          "text": [
            "[4 6 7 8]\n"
          ]
        }
      ]
    },
    {
      "cell_type": "markdown",
      "source": [
        "27. Is the following expressions true?\n",
        "\n",
        "np.sqrt(-1) == np.emath.sqrt(-1)"
      ],
      "metadata": {
        "id": "YSxaDBxw-Zqd"
      }
    },
    {
      "cell_type": "code",
      "source": [
        "np.sqrt(-1) == np.emath.sqrt(-1)"
      ],
      "metadata": {
        "colab": {
          "base_uri": "https://localhost:8080/"
        },
        "id": "gcuy8q669ihI",
        "outputId": "c4267ddf-4a4a-432c-f748-4393d4fbe44c"
      },
      "execution_count": 208,
      "outputs": [
        {
          "output_type": "stream",
          "name": "stderr",
          "text": [
            "<ipython-input-208-16339fbc685e>:1: RuntimeWarning: invalid value encountered in sqrt\n",
            "  np.sqrt(-1) == np.emath.sqrt(-1)\n"
          ]
        },
        {
          "output_type": "execute_result",
          "data": {
            "text/plain": [
              "np.False_"
            ]
          },
          "metadata": {},
          "execution_count": 208
        }
      ]
    },
    {
      "cell_type": "code",
      "source": [
        "np.sqrt(-1)"
      ],
      "metadata": {
        "colab": {
          "base_uri": "https://localhost:8080/"
        },
        "id": "Im-Qp7Jz-gqX",
        "outputId": "718530d7-771e-4897-f491-f8bd645f321d"
      },
      "execution_count": 209,
      "outputs": [
        {
          "output_type": "stream",
          "name": "stderr",
          "text": [
            "<ipython-input-209-597592b72a04>:1: RuntimeWarning: invalid value encountered in sqrt\n",
            "  np.sqrt(-1)\n"
          ]
        },
        {
          "output_type": "execute_result",
          "data": {
            "text/plain": [
              "np.float64(nan)"
            ]
          },
          "metadata": {},
          "execution_count": 209
        }
      ]
    },
    {
      "cell_type": "code",
      "source": [
        "np.emath.sqrt(-1)"
      ],
      "metadata": {
        "colab": {
          "base_uri": "https://localhost:8080/"
        },
        "id": "Dz8gA5oZ-jom",
        "outputId": "f053eb5b-bf12-479e-e6de-69404b557108"
      },
      "execution_count": 210,
      "outputs": [
        {
          "output_type": "execute_result",
          "data": {
            "text/plain": [
              "np.complex128(1j)"
            ]
          },
          "metadata": {},
          "execution_count": 210
        }
      ]
    },
    {
      "cell_type": "markdown",
      "source": [
        "28. how to get the dates of yesterday, today and tomorrow?"
      ],
      "metadata": {
        "id": "KmHBRgMoPC7W"
      }
    },
    {
      "cell_type": "code",
      "source": [
        "np.datetime64('today','D') - np.timedelta64(1,'D')"
      ],
      "metadata": {
        "colab": {
          "base_uri": "https://localhost:8080/"
        },
        "id": "YKXWsPna-mZj",
        "outputId": "e1f23c5d-5f58-42c5-8a0f-1b218de2f72e"
      },
      "execution_count": 4,
      "outputs": [
        {
          "output_type": "execute_result",
          "data": {
            "text/plain": [
              "np.datetime64('2025-05-10')"
            ]
          },
          "metadata": {},
          "execution_count": 4
        }
      ]
    },
    {
      "cell_type": "code",
      "source": [
        "np.datetime64('today','D')"
      ],
      "metadata": {
        "colab": {
          "base_uri": "https://localhost:8080/"
        },
        "id": "T7eLq3ouPkb2",
        "outputId": "a5b1342d-e2ee-4fc9-a5f0-9d8581d6b067"
      },
      "execution_count": 11,
      "outputs": [
        {
          "output_type": "execute_result",
          "data": {
            "text/plain": [
              "np.datetime64('2025-05-11')"
            ]
          },
          "metadata": {},
          "execution_count": 11
        }
      ]
    },
    {
      "cell_type": "code",
      "source": [
        "np.datetime64('today','D') + np.timedelta64(1,'D')"
      ],
      "metadata": {
        "colab": {
          "base_uri": "https://localhost:8080/"
        },
        "id": "33DQf0MEP0Dv",
        "outputId": "5fc75f58-3a1d-4d47-88fe-ef6884eaa693"
      },
      "execution_count": 12,
      "outputs": [
        {
          "output_type": "execute_result",
          "data": {
            "text/plain": [
              "np.datetime64('2025-05-12')"
            ]
          },
          "metadata": {},
          "execution_count": 12
        }
      ]
    },
    {
      "cell_type": "markdown",
      "source": [
        "29. How to get all the dates corresponding to the month of July 2016?"
      ],
      "metadata": {
        "id": "9qkKgDQ7Qocb"
      }
    },
    {
      "cell_type": "code",
      "source": [
        "np.arange('2016-07', '2016-08',dtype = 'datetime64[D]')"
      ],
      "metadata": {
        "colab": {
          "base_uri": "https://localhost:8080/"
        },
        "id": "Y9ZaTN6HP1Un",
        "outputId": "e914fe65-6691-4532-bec5-186efbd34a4a"
      },
      "execution_count": 20,
      "outputs": [
        {
          "output_type": "execute_result",
          "data": {
            "text/plain": [
              "array(['2016-07-01', '2016-07-02', '2016-07-03', '2016-07-04',\n",
              "       '2016-07-05', '2016-07-06', '2016-07-07', '2016-07-08',\n",
              "       '2016-07-09', '2016-07-10', '2016-07-11', '2016-07-12',\n",
              "       '2016-07-13', '2016-07-14', '2016-07-15', '2016-07-16',\n",
              "       '2016-07-17', '2016-07-18', '2016-07-19', '2016-07-20',\n",
              "       '2016-07-21', '2016-07-22', '2016-07-23', '2016-07-24',\n",
              "       '2016-07-25', '2016-07-26', '2016-07-27', '2016-07-28',\n",
              "       '2016-07-29', '2016-07-30', '2016-07-31'], dtype='datetime64[D]')"
            ]
          },
          "metadata": {},
          "execution_count": 20
        }
      ]
    },
    {
      "cell_type": "markdown",
      "source": [
        "30. How to compute ((A+B)*(-A/2)) in place (without copy)?"
      ],
      "metadata": {
        "id": "ziesb6F1SNfm"
      }
    },
    {
      "cell_type": "code",
      "source": [
        "A = np.ones(3)*1\n",
        "B = np.ones(3)*2\n",
        "C = np.ones(3)*3"
      ],
      "metadata": {
        "id": "rOSfOrgqP7yl"
      },
      "execution_count": 28,
      "outputs": []
    },
    {
      "cell_type": "code",
      "source": [
        "np.add(A,B,out=B)"
      ],
      "metadata": {
        "colab": {
          "base_uri": "https://localhost:8080/"
        },
        "id": "fxeClNu2STfc",
        "outputId": "6199b522-4631-4172-8167-ebebd334e117"
      },
      "execution_count": 29,
      "outputs": [
        {
          "output_type": "execute_result",
          "data": {
            "text/plain": [
              "array([3., 3., 3.])"
            ]
          },
          "metadata": {},
          "execution_count": 29
        }
      ]
    },
    {
      "cell_type": "code",
      "source": [
        "np.divide(A,2,out=A)"
      ],
      "metadata": {
        "colab": {
          "base_uri": "https://localhost:8080/"
        },
        "id": "U2arvGtEST_c",
        "outputId": "b68f92be-8c31-428a-e675-a0b828abba45"
      },
      "execution_count": 30,
      "outputs": [
        {
          "output_type": "execute_result",
          "data": {
            "text/plain": [
              "array([0.5, 0.5, 0.5])"
            ]
          },
          "metadata": {},
          "execution_count": 30
        }
      ]
    },
    {
      "cell_type": "code",
      "source": [
        "np.negative(A,out = A)"
      ],
      "metadata": {
        "colab": {
          "base_uri": "https://localhost:8080/"
        },
        "id": "8SsuqYc6Sdvc",
        "outputId": "ce3e874f-fcd8-4167-e541-ca0b227375fc"
      },
      "execution_count": 31,
      "outputs": [
        {
          "output_type": "execute_result",
          "data": {
            "text/plain": [
              "array([-0.5, -0.5, -0.5])"
            ]
          },
          "metadata": {},
          "execution_count": 31
        }
      ]
    },
    {
      "cell_type": "code",
      "source": [
        "np.multiply(A,B,out=A)"
      ],
      "metadata": {
        "colab": {
          "base_uri": "https://localhost:8080/"
        },
        "id": "BkxY1_UDSqG3",
        "outputId": "5e706d54-b790-4feb-f9fb-46610c56f454"
      },
      "execution_count": 32,
      "outputs": [
        {
          "output_type": "execute_result",
          "data": {
            "text/plain": [
              "array([-1.5, -1.5, -1.5])"
            ]
          },
          "metadata": {},
          "execution_count": 32
        }
      ]
    },
    {
      "cell_type": "markdown",
      "source": [
        "31. Extract the integer part of a random array using 5 different methods"
      ],
      "metadata": {
        "id": "1p562qq2S8Z7"
      }
    },
    {
      "cell_type": "code",
      "source": [
        "arr = np.random.uniform(1,10,5)"
      ],
      "metadata": {
        "id": "4i1fbPaDS3kR"
      },
      "execution_count": 56,
      "outputs": []
    },
    {
      "cell_type": "code",
      "source": [
        "arr"
      ],
      "metadata": {
        "colab": {
          "base_uri": "https://localhost:8080/"
        },
        "id": "Et_sNhGZT41a",
        "outputId": "a5afdb9b-c5f5-4dd1-bea7-158ee3091fa1"
      },
      "execution_count": 57,
      "outputs": [
        {
          "output_type": "execute_result",
          "data": {
            "text/plain": [
              "array([3.20641043, 3.05004296, 4.6395838 , 9.65650212, 3.5632298 ])"
            ]
          },
          "metadata": {},
          "execution_count": 57
        }
      ]
    },
    {
      "cell_type": "code",
      "source": [
        "# 1.\n",
        "np.floor(arr)"
      ],
      "metadata": {
        "colab": {
          "base_uri": "https://localhost:8080/"
        },
        "id": "gGZ0Y6qUT5bL",
        "outputId": "42e7dc51-3e15-49ec-bbda-5ed94c3e4a68"
      },
      "execution_count": 54,
      "outputs": [
        {
          "output_type": "execute_result",
          "data": {
            "text/plain": [
              "array([3., 7., 8., 5., 9.])"
            ]
          },
          "metadata": {},
          "execution_count": 54
        }
      ]
    },
    {
      "cell_type": "code",
      "source": [
        "# 2.\n",
        "arr - arr % 1"
      ],
      "metadata": {
        "colab": {
          "base_uri": "https://localhost:8080/"
        },
        "id": "IADXLAOpVCiw",
        "outputId": "10025f89-c50b-40f5-ef8f-a6ea4adbfc0b"
      },
      "execution_count": 61,
      "outputs": [
        {
          "output_type": "execute_result",
          "data": {
            "text/plain": [
              "array([3., 3., 4., 9., 3.])"
            ]
          },
          "metadata": {},
          "execution_count": 61
        }
      ]
    },
    {
      "cell_type": "code",
      "source": [
        "# 3.\n",
        "np.ceil(arr) -1"
      ],
      "metadata": {
        "colab": {
          "base_uri": "https://localhost:8080/"
        },
        "id": "iA1rBMR1VUYW",
        "outputId": "2b36991c-cedb-4fd5-ae63-822dd75fed4c"
      },
      "execution_count": 62,
      "outputs": [
        {
          "output_type": "execute_result",
          "data": {
            "text/plain": [
              "array([3., 3., 4., 9., 3.])"
            ]
          },
          "metadata": {},
          "execution_count": 62
        }
      ]
    },
    {
      "cell_type": "code",
      "source": [
        "# 4.\n",
        "np.trunc(arr)"
      ],
      "metadata": {
        "colab": {
          "base_uri": "https://localhost:8080/"
        },
        "id": "wQKkWb2vVklP",
        "outputId": "ba7ac0f0-1430-49fa-a474-b78cfef2770a"
      },
      "execution_count": 63,
      "outputs": [
        {
          "output_type": "execute_result",
          "data": {
            "text/plain": [
              "array([3., 3., 4., 9., 3.])"
            ]
          },
          "metadata": {},
          "execution_count": 63
        }
      ]
    },
    {
      "cell_type": "code",
      "source": [
        "# 5.\n",
        "arr.astype(int)"
      ],
      "metadata": {
        "colab": {
          "base_uri": "https://localhost:8080/"
        },
        "id": "68NfBjFhVt2U",
        "outputId": "1688842f-2c8d-40f1-d449-3b5eb8d30700"
      },
      "execution_count": 65,
      "outputs": [
        {
          "output_type": "execute_result",
          "data": {
            "text/plain": [
              "array([3, 3, 4, 9, 3])"
            ]
          },
          "metadata": {},
          "execution_count": 65
        }
      ]
    },
    {
      "cell_type": "markdown",
      "source": [
        "32. Create a 5x5 matrix with row values ranging from 0 to 4."
      ],
      "metadata": {
        "id": "az-mUtkuWsUb"
      }
    },
    {
      "cell_type": "code",
      "source": [
        "np.zeros((5,5)) + np.arange(5)"
      ],
      "metadata": {
        "colab": {
          "base_uri": "https://localhost:8080/"
        },
        "id": "TZzMsVBkWiJG",
        "outputId": "56c46c95-c601-4f8e-90e8-c2c42bbfdd82"
      },
      "execution_count": 67,
      "outputs": [
        {
          "output_type": "execute_result",
          "data": {
            "text/plain": [
              "array([[0., 1., 2., 3., 4.],\n",
              "       [0., 1., 2., 3., 4.],\n",
              "       [0., 1., 2., 3., 4.],\n",
              "       [0., 1., 2., 3., 4.],\n",
              "       [0., 1., 2., 3., 4.]])"
            ]
          },
          "metadata": {},
          "execution_count": 67
        }
      ]
    },
    {
      "cell_type": "markdown",
      "source": [
        "33. Consider a generator function that generates 10 integers and use it to build an array."
      ],
      "metadata": {
        "id": "M3gTNaWaX3DQ"
      }
    },
    {
      "cell_type": "code",
      "source": [
        "def generate():\n",
        "  for x in range(10):\n",
        "    yield x"
      ],
      "metadata": {
        "id": "FB-BnZRfW7He"
      },
      "execution_count": 73,
      "outputs": []
    },
    {
      "cell_type": "code",
      "source": [
        "np.fromiter(generate(),dtype =  int)"
      ],
      "metadata": {
        "colab": {
          "base_uri": "https://localhost:8080/"
        },
        "id": "iYPyGBC9Yaaa",
        "outputId": "f08a4706-6c0d-46fc-f891-be2dac69c474"
      },
      "execution_count": 79,
      "outputs": [
        {
          "output_type": "execute_result",
          "data": {
            "text/plain": [
              "array([0, 1, 2, 3, 4, 5, 6, 7, 8, 9])"
            ]
          },
          "metadata": {},
          "execution_count": 79
        }
      ]
    },
    {
      "cell_type": "markdown",
      "source": [
        "34.  Create a vector of size 10 with values ranging from 0 to 1, both excluded."
      ],
      "metadata": {
        "id": "cqIVuGGzY-eN"
      }
    },
    {
      "cell_type": "code",
      "source": [
        "np.linspace(0,1,11,endpoint = False)[1:]"
      ],
      "metadata": {
        "colab": {
          "base_uri": "https://localhost:8080/"
        },
        "id": "Q_0rD6JLYbwB",
        "outputId": "773c6396-0c9f-4b0a-b65f-502f6b9dd67a"
      },
      "execution_count": 88,
      "outputs": [
        {
          "output_type": "execute_result",
          "data": {
            "text/plain": [
              "array([0.09090909, 0.18181818, 0.27272727, 0.36363636, 0.45454545,\n",
              "       0.54545455, 0.63636364, 0.72727273, 0.81818182, 0.90909091])"
            ]
          },
          "metadata": {},
          "execution_count": 88
        }
      ]
    },
    {
      "cell_type": "markdown",
      "source": [
        "35. Create a random vector of size 10 and sort it."
      ],
      "metadata": {
        "id": "9qB0aaCOZ1mZ"
      }
    },
    {
      "cell_type": "code",
      "source": [
        "arr = np.random.standard_normal(10)"
      ],
      "metadata": {
        "id": "MCRzOJviZC5e"
      },
      "execution_count": 89,
      "outputs": []
    },
    {
      "cell_type": "code",
      "source": [
        "arr"
      ],
      "metadata": {
        "colab": {
          "base_uri": "https://localhost:8080/"
        },
        "id": "rfpoF4SYZNJi",
        "outputId": "ac0ce960-d929-4e9d-8861-20f2d6de11d9"
      },
      "execution_count": 90,
      "outputs": [
        {
          "output_type": "execute_result",
          "data": {
            "text/plain": [
              "array([-0.62168451, -0.14727195, -0.53733508, -0.70865968,  0.98975114,\n",
              "       -0.66217427, -0.09329463,  0.04227237,  1.49516894,  0.12464155])"
            ]
          },
          "metadata": {},
          "execution_count": 90
        }
      ]
    },
    {
      "cell_type": "code",
      "source": [
        "arr.sort()"
      ],
      "metadata": {
        "id": "auHWOTGHaRjP"
      },
      "execution_count": 91,
      "outputs": []
    },
    {
      "cell_type": "code",
      "source": [
        "arr"
      ],
      "metadata": {
        "colab": {
          "base_uri": "https://localhost:8080/"
        },
        "id": "5_EM09mbaSvi",
        "outputId": "8f0772d4-b367-493a-fa7d-abf2790ea523"
      },
      "execution_count": 92,
      "outputs": [
        {
          "output_type": "execute_result",
          "data": {
            "text/plain": [
              "array([-0.70865968, -0.66217427, -0.62168451, -0.53733508, -0.14727195,\n",
              "       -0.09329463,  0.04227237,  0.12464155,  0.98975114,  1.49516894])"
            ]
          },
          "metadata": {},
          "execution_count": 92
        }
      ]
    },
    {
      "cell_type": "markdown",
      "source": [
        "36. How to sum a small array faster than np.sum?"
      ],
      "metadata": {
        "id": "jt5gM9RAvo0e"
      }
    },
    {
      "cell_type": "code",
      "source": [
        "arr = np.arange(100)"
      ],
      "metadata": {
        "id": "3-DtW4DFaTbk"
      },
      "execution_count": 15,
      "outputs": []
    },
    {
      "cell_type": "code",
      "source": [
        "%timeit arr.sum()"
      ],
      "metadata": {
        "colab": {
          "base_uri": "https://localhost:8080/"
        },
        "id": "58g8VX7Irzgl",
        "outputId": "7d73f2f6-3129-4fb5-e451-970ba6db115b"
      },
      "execution_count": 20,
      "outputs": [
        {
          "output_type": "stream",
          "name": "stdout",
          "text": [
            "1.74 µs ± 301 ns per loop (mean ± std. dev. of 7 runs, 1000000 loops each)\n"
          ]
        }
      ]
    },
    {
      "cell_type": "code",
      "source": [
        "%timeit np.sum(arr)"
      ],
      "metadata": {
        "colab": {
          "base_uri": "https://localhost:8080/"
        },
        "id": "v06rZD7jr6-4",
        "outputId": "ec9a2cc7-02fd-477e-a337-e6152200fb61"
      },
      "execution_count": 17,
      "outputs": [
        {
          "output_type": "stream",
          "name": "stdout",
          "text": [
            "5.06 µs ± 1.03 µs per loop (mean ± std. dev. of 7 runs, 100000 loops each)\n"
          ]
        }
      ]
    },
    {
      "cell_type": "code",
      "source": [
        "%timeit sum(arr)"
      ],
      "metadata": {
        "colab": {
          "base_uri": "https://localhost:8080/"
        },
        "id": "Fftt47xwr9fv",
        "outputId": "528ccdc0-ed67-4e41-a53b-f6abcac7ccee"
      },
      "execution_count": 18,
      "outputs": [
        {
          "output_type": "stream",
          "name": "stdout",
          "text": [
            "9.4 µs ± 229 ns per loop (mean ± std. dev. of 7 runs, 100000 loops each)\n"
          ]
        }
      ]
    },
    {
      "cell_type": "code",
      "source": [
        "%timeit np.add.reduce(arr)"
      ],
      "metadata": {
        "colab": {
          "base_uri": "https://localhost:8080/"
        },
        "id": "9arYyRefs8lW",
        "outputId": "38379de8-bd64-4d03-8802-f6da238005ee"
      },
      "execution_count": 19,
      "outputs": [
        {
          "output_type": "stream",
          "name": "stdout",
          "text": [
            "1.53 µs ± 304 ns per loop (mean ± std. dev. of 7 runs, 1000000 loops each)\n"
          ]
        }
      ]
    },
    {
      "cell_type": "code",
      "source": [
        "arr = np.arange(10)"
      ],
      "metadata": {
        "id": "UtO_kcp-tQW1"
      },
      "execution_count": 22,
      "outputs": []
    },
    {
      "cell_type": "code",
      "source": [
        "%timeit arr.sum()"
      ],
      "metadata": {
        "colab": {
          "base_uri": "https://localhost:8080/"
        },
        "id": "jgDnzAxSvFrM",
        "outputId": "5c806a31-3fe1-4afe-f33d-8682ad7cfa3b"
      },
      "execution_count": 23,
      "outputs": [
        {
          "output_type": "stream",
          "name": "stdout",
          "text": [
            "1.96 µs ± 696 ns per loop (mean ± std. dev. of 7 runs, 100000 loops each)\n"
          ]
        }
      ]
    },
    {
      "cell_type": "code",
      "source": [
        "%timeit np.sum(arr)"
      ],
      "metadata": {
        "colab": {
          "base_uri": "https://localhost:8080/"
        },
        "id": "e3NgA8qKvIal",
        "outputId": "7be4eaaf-3d09-4366-cba9-7fc0afd6b4f8"
      },
      "execution_count": 24,
      "outputs": [
        {
          "output_type": "stream",
          "name": "stdout",
          "text": [
            "4.47 µs ± 1.12 µs per loop (mean ± std. dev. of 7 runs, 100000 loops each)\n"
          ]
        }
      ]
    },
    {
      "cell_type": "code",
      "source": [
        "%timeit sum(arr)"
      ],
      "metadata": {
        "colab": {
          "base_uri": "https://localhost:8080/"
        },
        "id": "H2EFqoGrvLNu",
        "outputId": "65b79943-2629-47fd-ee6c-aa926127205c"
      },
      "execution_count": 25,
      "outputs": [
        {
          "output_type": "stream",
          "name": "stdout",
          "text": [
            "2.11 µs ± 654 ns per loop (mean ± std. dev. of 7 runs, 100000 loops each)\n"
          ]
        }
      ]
    },
    {
      "cell_type": "code",
      "source": [
        "%timeit np.add.reduce(arr)"
      ],
      "metadata": {
        "colab": {
          "base_uri": "https://localhost:8080/"
        },
        "id": "49efWoebvPhv",
        "outputId": "01a4854c-c307-4221-e565-ea87aba2567c"
      },
      "execution_count": 26,
      "outputs": [
        {
          "output_type": "stream",
          "name": "stdout",
          "text": [
            "3.04 µs ± 876 ns per loop (mean ± std. dev. of 7 runs, 100000 loops each)\n"
          ]
        }
      ]
    },
    {
      "cell_type": "markdown",
      "source": [
        "37. Consider two random array A and B, check if they are equal."
      ],
      "metadata": {
        "id": "Lzsgwx0XwSqD"
      }
    },
    {
      "cell_type": "code",
      "source": [
        "A = np.random.random(2)\n",
        "B = np.random.random(2)"
      ],
      "metadata": {
        "id": "WZH1_zQcvUam"
      },
      "execution_count": 30,
      "outputs": []
    },
    {
      "cell_type": "code",
      "source": [
        "A==B"
      ],
      "metadata": {
        "colab": {
          "base_uri": "https://localhost:8080/"
        },
        "id": "eKUzIrZdwcFp",
        "outputId": "258fa3d3-ad10-4912-8231-380baf775fc4"
      },
      "execution_count": 31,
      "outputs": [
        {
          "output_type": "execute_result",
          "data": {
            "text/plain": [
              "array([False, False])"
            ]
          },
          "metadata": {},
          "execution_count": 31
        }
      ]
    },
    {
      "cell_type": "markdown",
      "source": [
        "38. Make an array immutable (read-only)."
      ],
      "metadata": {
        "id": "jx56G-jMwxfR"
      }
    },
    {
      "cell_type": "code",
      "source": [
        "arr = np.zeros(10)\n",
        "arr.flags.writeable = False"
      ],
      "metadata": {
        "id": "th8IIUbcwhnh"
      },
      "execution_count": 33,
      "outputs": []
    },
    {
      "cell_type": "markdown",
      "source": [
        "39. Consider a random 10x2 matrix representing cartesian coordinates, convert them to polar coordinates."
      ],
      "metadata": {
        "id": "9jFaPKAaxG-1"
      }
    },
    {
      "cell_type": "code",
      "source": [
        "arr = np.random.random((10,2))"
      ],
      "metadata": {
        "id": "BZuO9R5Rw1sq"
      },
      "execution_count": 34,
      "outputs": []
    },
    {
      "cell_type": "code",
      "source": [
        "arr"
      ],
      "metadata": {
        "colab": {
          "base_uri": "https://localhost:8080/"
        },
        "id": "TE4epzhUxjag",
        "outputId": "99534fb0-96c5-4186-acd3-ff2f14029592"
      },
      "execution_count": 47,
      "outputs": [
        {
          "output_type": "execute_result",
          "data": {
            "text/plain": [
              "array([[0.46852169, 0.49740491],\n",
              "       [0.05008201, 0.57097512],\n",
              "       [0.06357975, 0.94109895],\n",
              "       [0.37778494, 0.50848611],\n",
              "       [0.5645049 , 0.8582577 ],\n",
              "       [0.66796487, 0.52131537],\n",
              "       [0.76257633, 0.52235241],\n",
              "       [0.39748608, 0.44610783],\n",
              "       [0.5209998 , 0.73094246],\n",
              "       [0.61312566, 0.1415511 ]])"
            ]
          },
          "metadata": {},
          "execution_count": 47
        }
      ]
    },
    {
      "cell_type": "code",
      "source": [
        "X, Y = arr[:,0], arr[:,1]\n",
        "R = np.sqrt(X**2+Y**2)\n",
        "T = np.arctan2(Y,X)"
      ],
      "metadata": {
        "id": "EgOKTtiHxj9o"
      },
      "execution_count": 40,
      "outputs": []
    },
    {
      "cell_type": "code",
      "source": [
        "print(R,T)"
      ],
      "metadata": {
        "colab": {
          "base_uri": "https://localhost:8080/"
        },
        "id": "TV8QrhKQyC57",
        "outputId": "e29573aa-8132-484f-f6d9-372ddebc425b"
      },
      "execution_count": 42,
      "outputs": [
        {
          "output_type": "stream",
          "name": "stdout",
          "text": [
            "[0.68331854 0.57316733 0.9432442  0.63346632 1.02726436 0.84731741\n",
            " 0.92432392 0.59750094 0.89761777 0.62925335] [0.81529134 1.48330712 1.50333979 0.93181594 0.9890037  0.66270805\n",
            " 0.60057671 0.84297091 0.95154582 0.22689262]\n"
          ]
        }
      ]
    },
    {
      "cell_type": "code",
      "source": [
        "np.vstack((R,T)).T"
      ],
      "metadata": {
        "colab": {
          "base_uri": "https://localhost:8080/"
        },
        "id": "bcmSmP1pyEQB",
        "outputId": "421a9e36-790e-4164-f665-6063c94590ba"
      },
      "execution_count": 49,
      "outputs": [
        {
          "output_type": "execute_result",
          "data": {
            "text/plain": [
              "array([[0.68331854, 0.81529134],\n",
              "       [0.57316733, 1.48330712],\n",
              "       [0.9432442 , 1.50333979],\n",
              "       [0.63346632, 0.93181594],\n",
              "       [1.02726436, 0.9890037 ],\n",
              "       [0.84731741, 0.66270805],\n",
              "       [0.92432392, 0.60057671],\n",
              "       [0.59750094, 0.84297091],\n",
              "       [0.89761777, 0.95154582],\n",
              "       [0.62925335, 0.22689262]])"
            ]
          },
          "metadata": {},
          "execution_count": 49
        }
      ]
    },
    {
      "cell_type": "code",
      "source": [
        "np.hstack((R,T))"
      ],
      "metadata": {
        "colab": {
          "base_uri": "https://localhost:8080/"
        },
        "id": "cf-7yQC5ylwR",
        "outputId": "c8d760dd-4899-4d4e-c574-441052d5563f"
      },
      "execution_count": 48,
      "outputs": [
        {
          "output_type": "execute_result",
          "data": {
            "text/plain": [
              "array([0.68331854, 0.57316733, 0.9432442 , 0.63346632, 1.02726436,\n",
              "       0.84731741, 0.92432392, 0.59750094, 0.89761777, 0.62925335,\n",
              "       0.81529134, 1.48330712, 1.50333979, 0.93181594, 0.9890037 ,\n",
              "       0.66270805, 0.60057671, 0.84297091, 0.95154582, 0.22689262])"
            ]
          },
          "metadata": {},
          "execution_count": 48
        }
      ]
    },
    {
      "cell_type": "markdown",
      "source": [
        "40. Create random vector of size 10 and replace the maximum value by 0."
      ],
      "metadata": {
        "id": "eqP62McnzTut"
      }
    },
    {
      "cell_type": "code",
      "source": [
        "arr = np.random.random(10)\n",
        "arr"
      ],
      "metadata": {
        "colab": {
          "base_uri": "https://localhost:8080/"
        },
        "id": "FM3SZVmnzCL6",
        "outputId": "021b6ecd-88ee-4e38-e4cf-3ccc0021e9d0"
      },
      "execution_count": 62,
      "outputs": [
        {
          "output_type": "execute_result",
          "data": {
            "text/plain": [
              "array([0.54847993, 0.61644592, 0.40517992, 0.88614407, 0.58718461,\n",
              "       0.61770254, 0.10290467, 0.58086273, 0.38130682, 0.41486273])"
            ]
          },
          "metadata": {},
          "execution_count": 62
        }
      ]
    },
    {
      "cell_type": "code",
      "source": [
        "arr[arr.argmax()] = 0"
      ],
      "metadata": {
        "id": "GG5EVXP_zfWI"
      },
      "execution_count": 63,
      "outputs": []
    },
    {
      "cell_type": "code",
      "source": [
        "arr"
      ],
      "metadata": {
        "colab": {
          "base_uri": "https://localhost:8080/"
        },
        "id": "hA1L-n-RzgeZ",
        "outputId": "fd974d47-932e-4ade-c41a-567a3a81b056"
      },
      "execution_count": 64,
      "outputs": [
        {
          "output_type": "execute_result",
          "data": {
            "text/plain": [
              "array([0.54847993, 0.61644592, 0.40517992, 0.        , 0.58718461,\n",
              "       0.61770254, 0.10290467, 0.58086273, 0.38130682, 0.41486273])"
            ]
          },
          "metadata": {},
          "execution_count": 64
        }
      ]
    },
    {
      "cell_type": "markdown",
      "source": [
        "41. Create a structured array with x and y coordinates covering the [0,1]x[0,1] area."
      ],
      "metadata": {
        "id": "UqH_K4Cm0Kbc"
      }
    },
    {
      "cell_type": "code",
      "source": [
        "arr = np.zeros((5,5), [('x',float),('y',float)])"
      ],
      "metadata": {
        "id": "QzHfPZOUz3YW"
      },
      "execution_count": 75,
      "outputs": []
    },
    {
      "cell_type": "code",
      "source": [
        "arr"
      ],
      "metadata": {
        "colab": {
          "base_uri": "https://localhost:8080/"
        },
        "id": "lu2MPgE93TbC",
        "outputId": "d034531b-2910-42cd-cb36-090149b19195"
      },
      "execution_count": 76,
      "outputs": [
        {
          "output_type": "execute_result",
          "data": {
            "text/plain": [
              "array([[(0., 0.), (0., 0.), (0., 0.), (0., 0.), (0., 0.)],\n",
              "       [(0., 0.), (0., 0.), (0., 0.), (0., 0.), (0., 0.)],\n",
              "       [(0., 0.), (0., 0.), (0., 0.), (0., 0.), (0., 0.)],\n",
              "       [(0., 0.), (0., 0.), (0., 0.), (0., 0.), (0., 0.)],\n",
              "       [(0., 0.), (0., 0.), (0., 0.), (0., 0.), (0., 0.)]],\n",
              "      dtype=[('x', '<f8'), ('y', '<f8')])"
            ]
          },
          "metadata": {},
          "execution_count": 76
        }
      ]
    },
    {
      "cell_type": "code",
      "source": [
        "arr['x'], arr['y'] = np.meshgrid(np.linspace(0,1,5), np.linspace(0,1,5))"
      ],
      "metadata": {
        "id": "WdGL2aJj3UVQ"
      },
      "execution_count": 78,
      "outputs": []
    },
    {
      "cell_type": "code",
      "source": [
        "arr"
      ],
      "metadata": {
        "colab": {
          "base_uri": "https://localhost:8080/"
        },
        "id": "YVFsyWHa4tju",
        "outputId": "4b85d21d-6baf-4836-d082-dfeb32a6c172"
      },
      "execution_count": 79,
      "outputs": [
        {
          "output_type": "execute_result",
          "data": {
            "text/plain": [
              "array([[(0.  , 0.  ), (0.25, 0.  ), (0.5 , 0.  ), (0.75, 0.  ),\n",
              "        (1.  , 0.  )],\n",
              "       [(0.  , 0.25), (0.25, 0.25), (0.5 , 0.25), (0.75, 0.25),\n",
              "        (1.  , 0.25)],\n",
              "       [(0.  , 0.5 ), (0.25, 0.5 ), (0.5 , 0.5 ), (0.75, 0.5 ),\n",
              "        (1.  , 0.5 )],\n",
              "       [(0.  , 0.75), (0.25, 0.75), (0.5 , 0.75), (0.75, 0.75),\n",
              "        (1.  , 0.75)],\n",
              "       [(0.  , 1.  ), (0.25, 1.  ), (0.5 , 1.  ), (0.75, 1.  ),\n",
              "        (1.  , 1.  )]], dtype=[('x', '<f8'), ('y', '<f8')])"
            ]
          },
          "metadata": {},
          "execution_count": 79
        }
      ]
    },
    {
      "cell_type": "markdown",
      "source": [
        "42. Given two arrays, X and Y, construct the Cauchy matrix C (Cij =1/(xi - yj))."
      ],
      "metadata": {
        "id": "kyL9aI0-6106"
      }
    },
    {
      "cell_type": "code",
      "source": [
        "X = np.random.random(3)\n",
        "Y = np.random.random(3)"
      ],
      "metadata": {
        "id": "ynw3ODZU5F28"
      },
      "execution_count": 89,
      "outputs": []
    },
    {
      "cell_type": "code",
      "source": [
        "M = np.subtract.outer(X,Y)\n",
        "M"
      ],
      "metadata": {
        "colab": {
          "base_uri": "https://localhost:8080/"
        },
        "id": "7TVrIGfX7hTW",
        "outputId": "942db609-a767-4cfc-8c16-a6659e7a8e06"
      },
      "execution_count": 90,
      "outputs": [
        {
          "output_type": "execute_result",
          "data": {
            "text/plain": [
              "array([[-0.08642039, -0.198873  , -0.45901157],\n",
              "       [ 0.2902309 ,  0.17777829, -0.08236027],\n",
              "       [-0.17535401, -0.28780662, -0.54794518]])"
            ]
          },
          "metadata": {},
          "execution_count": 90
        }
      ]
    },
    {
      "cell_type": "code",
      "source": [
        "np.linalg.det(M)"
      ],
      "metadata": {
        "colab": {
          "base_uri": "https://localhost:8080/"
        },
        "id": "jQKSSMYP7uHM",
        "outputId": "26425fa3-30fb-43ac-9508-3ecdb22889da"
      },
      "execution_count": 91,
      "outputs": [
        {
          "output_type": "execute_result",
          "data": {
            "text/plain": [
              "np.float64(5.812710341077742e-18)"
            ]
          },
          "metadata": {},
          "execution_count": 91
        }
      ]
    },
    {
      "cell_type": "markdown",
      "source": [
        "43. Print the minimum and maximum representable value for each numpy scalar type."
      ],
      "metadata": {
        "id": "2e06rCDX8B0R"
      }
    },
    {
      "cell_type": "code",
      "source": [
        "for dtype in [np.int8, np.int32, np.int64]:\n",
        "   print(np.iinfo(dtype).min)\n",
        "   print(np.iinfo(dtype).max)\n",
        "for dtype in [np.float32, np.float64]:\n",
        "   print(np.finfo(dtype).min)\n",
        "   print(np.finfo(dtype).max)\n",
        "   print(np.finfo(dtype).eps)"
      ],
      "metadata": {
        "colab": {
          "base_uri": "https://localhost:8080/"
        },
        "id": "VTgEvdPF724w",
        "outputId": "d22f695c-6728-4153-bba9-163dccd47502"
      },
      "execution_count": 92,
      "outputs": [
        {
          "output_type": "stream",
          "name": "stdout",
          "text": [
            "-128\n",
            "127\n",
            "-2147483648\n",
            "2147483647\n",
            "-9223372036854775808\n",
            "9223372036854775807\n",
            "-3.4028235e+38\n",
            "3.4028235e+38\n",
            "1.1920929e-07\n",
            "-1.7976931348623157e+308\n",
            "1.7976931348623157e+308\n",
            "2.220446049250313e-16\n"
          ]
        }
      ]
    },
    {
      "cell_type": "markdown",
      "source": [
        "44. How to print all the values of an array?"
      ],
      "metadata": {
        "id": "32qRJdMo8_VQ"
      }
    },
    {
      "cell_type": "code",
      "source": [
        "Z = np.zeros((3,4))\n",
        "print(Z)"
      ],
      "metadata": {
        "colab": {
          "base_uri": "https://localhost:8080/"
        },
        "id": "F1UhSQ6e8029",
        "outputId": "f74bbdca-4289-47c8-e7b3-0383a2b9f9d2"
      },
      "execution_count": 93,
      "outputs": [
        {
          "output_type": "stream",
          "name": "stdout",
          "text": [
            "[[0. 0. 0. 0.]\n",
            " [0. 0. 0. 0.]\n",
            " [0. 0. 0. 0.]]\n"
          ]
        }
      ]
    },
    {
      "cell_type": "markdown",
      "source": [
        "45. How to find the closest value (to a given scalar) in a vector?"
      ],
      "metadata": {
        "id": "Sc3YOYqp9yQ-"
      }
    },
    {
      "cell_type": "code",
      "source": [
        "scalar = 2\n",
        "arr = np.random.random(10)\n",
        "index  = np.abs(arr - scalar).argmin()\n",
        "arr[index]"
      ],
      "metadata": {
        "colab": {
          "base_uri": "https://localhost:8080/"
        },
        "id": "1IaEuzMG9MMs",
        "outputId": "1d7dc62c-b744-4328-f42a-d396e5a4f2f0"
      },
      "execution_count": 94,
      "outputs": [
        {
          "output_type": "execute_result",
          "data": {
            "text/plain": [
              "np.float64(0.9404591174898048)"
            ]
          },
          "metadata": {},
          "execution_count": 94
        }
      ]
    },
    {
      "cell_type": "markdown",
      "source": [
        "46. Create a structured array representing a position (x,y) and a color (r,g,b)."
      ],
      "metadata": {
        "id": "yHwt0gXT_ge2"
      }
    },
    {
      "cell_type": "code",
      "source": [
        "arr = np.zeros(10,[('position',[('x',float),('y',float)]),\n",
        "                   ('color',[('r',float),('g',float),('b',float)])])\n",
        "\n",
        "arr"
      ],
      "metadata": {
        "colab": {
          "base_uri": "https://localhost:8080/"
        },
        "id": "uRrgmwq1_GDz",
        "outputId": "d3ae36c1-615d-4fa7-a968-a23632a4873c"
      },
      "execution_count": 98,
      "outputs": [
        {
          "output_type": "execute_result",
          "data": {
            "text/plain": [
              "array([((0., 0.), (0., 0., 0.)), ((0., 0.), (0., 0., 0.)),\n",
              "       ((0., 0.), (0., 0., 0.)), ((0., 0.), (0., 0., 0.)),\n",
              "       ((0., 0.), (0., 0., 0.)), ((0., 0.), (0., 0., 0.)),\n",
              "       ((0., 0.), (0., 0., 0.)), ((0., 0.), (0., 0., 0.)),\n",
              "       ((0., 0.), (0., 0., 0.)), ((0., 0.), (0., 0., 0.))],\n",
              "      dtype=[('position', [('x', '<f8'), ('y', '<f8')]), ('color', [('r', '<f8'), ('g', '<f8'), ('b', '<f8')])])"
            ]
          },
          "metadata": {},
          "execution_count": 98
        }
      ]
    },
    {
      "cell_type": "code",
      "source": [],
      "metadata": {
        "id": "HSoy497EAA7h"
      },
      "execution_count": null,
      "outputs": []
    }
  ]
}